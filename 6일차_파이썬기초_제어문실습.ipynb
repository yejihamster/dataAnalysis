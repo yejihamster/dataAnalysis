{
  "nbformat": 4,
  "nbformat_minor": 0,
  "metadata": {
    "colab": {
      "provenance": [],
      "authorship_tag": "ABX9TyOFF8IdkLGXSB0C/Jk6qZ3C",
      "include_colab_link": true
    },
    "kernelspec": {
      "name": "python3",
      "display_name": "Python 3"
    },
    "language_info": {
      "name": "python"
    }
  },
  "cells": [
    {
      "cell_type": "markdown",
      "metadata": {
        "id": "view-in-github",
        "colab_type": "text"
      },
      "source": [
        "<a href=\"https://colab.research.google.com/github/yejihamster/dataAnalysis/blob/main/6%EC%9D%BC%EC%B0%A8_%ED%8C%8C%EC%9D%B4%EC%8D%AC%EA%B8%B0%EC%B4%88_%EC%A0%9C%EC%96%B4%EB%AC%B8%EC%8B%A4%EC%8A%B5.ipynb\" target=\"_parent\"><img src=\"https://colab.research.google.com/assets/colab-badge.svg\" alt=\"Open In Colab\"/></a>"
      ]
    },
    {
      "cell_type": "code",
      "execution_count": 3,
      "metadata": {
        "colab": {
          "base_uri": "https://localhost:8080/",
          "height": 110
        },
        "id": "PctPurDYGWpT",
        "outputId": "9f07be7c-aa99-4aae-ba0f-cf322be7a357"
      },
      "outputs": [
        {
          "output_type": "error",
          "ename": "IndentationError",
          "evalue": "expected an indented block after 'else' statement on line 5 (<ipython-input-3-f80fbacffb6e>, line 7)",
          "traceback": [
            "\u001b[0;36m  File \u001b[0;32m\"<ipython-input-3-f80fbacffb6e>\"\u001b[0;36m, line \u001b[0;32m7\u001b[0m\n\u001b[0;31m    print()\u001b[0m\n\u001b[0m    ^\u001b[0m\n\u001b[0;31mIndentationError\u001b[0m\u001b[0;31m:\u001b[0m expected an indented block after 'else' statement on line 5\n"
          ]
        }
      ],
      "source": [
        "t = 0\n",
        "for i in range(1001):\n",
        "    if i % 3 == 0:\n",
        "       t += i\n",
        "else:\n",
        "\n",
        "print()\n"
      ]
    },
    {
      "cell_type": "markdown",
      "source": [
        "# [실습문제] while 반복문(퀴즈 맞히기)"
      ],
      "metadata": {
        "id": "Sg3WdlLCKRtA"
      }
    },
    {
      "cell_type": "code",
      "source": [
        "print('프로그램을 작성할 때 일정한 구간의 명령을\\n반복해서 실행하도록 구성한 문장을 무엇이라고 하는가?')\n",
        "while True:\n",
        "    answer = input('정답: ')\n",
        "    if answer == '반복문':\n",
        "        print('정답!')\n",
        "        break\n",
        "    elif answer == '반복':\n",
        "        print('좀 더 고민해 보세요`')\n",
        "        continue\n",
        "    print('오답')\n",
        "print('프로그램 종료!')"
      ],
      "metadata": {
        "colab": {
          "base_uri": "https://localhost:8080/"
        },
        "id": "2ls8pACBKXNQ",
        "outputId": "bd4a251d-21d9-4fac-d006-5e429ed71063"
      },
      "execution_count": 10,
      "outputs": [
        {
          "output_type": "stream",
          "name": "stdout",
          "text": [
            "프로그램을 작성할 때 일정한 구간의 명령을\n",
            "반복해서 실행하도록 구성한 문장을 무엇이라고 하는가?\n",
            "정답: 누렁이\n",
            "오답\n",
            "정답: 반복\n",
            "좀 더 고민해 보세요`\n",
            "정답: 반복문\n",
            "정답!\n",
            "프로그램 종료!\n"
          ]
        }
      ]
    },
    {
      "cell_type": "code",
      "source": [
        "money = 10000000\n",
        "year = 1\n",
        "for year in 100:\n",
        "    total = money * 0.07\n",
        "    year +=1\n",
        "else:\n",
        "    if total == 20000000:\n",
        "    print(year)"
      ],
      "metadata": {
        "colab": {
          "base_uri": "https://localhost:8080/",
          "height": 110
        },
        "id": "hrOIhbboMV0g",
        "outputId": "0423dbe6-fb81-493d-d79d-aa15a95aa8c4"
      },
      "execution_count": 14,
      "outputs": [
        {
          "output_type": "error",
          "ename": "IndentationError",
          "evalue": "expected an indented block after 'if' statement on line 7 (<ipython-input-14-fd02d92ffb39>, line 8)",
          "traceback": [
            "\u001b[0;36m  File \u001b[0;32m\"<ipython-input-14-fd02d92ffb39>\"\u001b[0;36m, line \u001b[0;32m8\u001b[0m\n\u001b[0;31m    print(year)\u001b[0m\n\u001b[0m    ^\u001b[0m\n\u001b[0;31mIndentationError\u001b[0m\u001b[0;31m:\u001b[0m expected an indented block after 'if' statement on line 7\n"
          ]
        }
      ]
    },
    {
      "cell_type": "code",
      "source": [
        "seed, target = 1000, 2000\n",
        "balance, interest = 1000, 0.035\n",
        "year = 0\n",
        "while balance <= target:\n",
        "    balance = balance + (balance * interest)\n",
        "    year += 1  # year = year + 1\n",
        "    print(f\"{year}, balance:{round(balance)}\")\n",
        "print(f\"{seed}원이 {target}이 되는데 {year}년이 걸립니다.\")"
      ],
      "metadata": {
        "colab": {
          "base_uri": "https://localhost:8080/"
        },
        "id": "CDxs7q5aN7Ev",
        "outputId": "bb562410-a299-452e-c58a-77eea1294648"
      },
      "execution_count": 21,
      "outputs": [
        {
          "output_type": "stream",
          "name": "stdout",
          "text": [
            "1, balance:1035\n",
            "2, balance:1071\n",
            "3, balance:1109\n",
            "4, balance:1148\n",
            "5, balance:1188\n",
            "6, balance:1229\n",
            "7, balance:1272\n",
            "8, balance:1317\n",
            "9, balance:1363\n",
            "10, balance:1411\n",
            "11, balance:1460\n",
            "12, balance:1511\n",
            "13, balance:1564\n",
            "14, balance:1619\n",
            "15, balance:1675\n",
            "16, balance:1734\n",
            "17, balance:1795\n",
            "18, balance:1857\n",
            "19, balance:1923\n",
            "20, balance:1990\n",
            "21, balance:2059\n",
            "1000원이 2000이 되는데 21년이 걸립니다.\n"
          ]
        }
      ]
    },
    {
      "cell_type": "markdown",
      "source": [
        "# [실습문제] 1~N까지 3의 배수 합계 구하기"
      ],
      "metadata": {
        "id": "5TZvmBeoPv1W"
      }
    },
    {
      "cell_type": "code",
      "source": [
        "result = sum( [i for i in range(1,1001) if i % 3 ==0] )\n",
        "print(f'{result:,}')"
      ],
      "metadata": {
        "colab": {
          "base_uri": "https://localhost:8080/"
        },
        "id": "LRwEAdNKP1M2",
        "outputId": "41648c77-132a-4b7c-a1cb-4aea09f4ba10"
      },
      "execution_count": 24,
      "outputs": [
        {
          "output_type": "stream",
          "name": "stdout",
          "text": [
            "166,833\n"
          ]
        }
      ]
    },
    {
      "cell_type": "markdown",
      "source": [
        "# [실습문제] 숫자 입력 받아 별 출력하기"
      ],
      "metadata": {
        "id": "9vrBeQ60SCbX"
      }
    },
    {
      "cell_type": "code",
      "source": [
        "star = '★'\n",
        "numbers = input('숫자를 입력하세요(0~9): ')\n",
        "for number in numbers:\n",
        "    for _ in range(int(number)*2):\n",
        "        print(star, end=\"\")\n",
        "    print()\n"
      ],
      "metadata": {
        "colab": {
          "base_uri": "https://localhost:8080/"
        },
        "id": "KbrPHB5vRCV_",
        "outputId": "9be0f47f-8f27-4ec7-da70-b90a41df13b3"
      },
      "execution_count": 28,
      "outputs": [
        {
          "output_type": "stream",
          "name": "stdout",
          "text": [
            "숫자를 입력하세요(0~9): 11\n",
            "★★\n",
            "★★\n",
            "------------------------------\n",
            "★★\n"
          ]
        }
      ]
    },
    {
      "cell_type": "code",
      "source": [
        "for number in numbers:\n",
        "    print(\"★\" *int(number)*2)"
      ],
      "metadata": {
        "colab": {
          "base_uri": "https://localhost:8080/"
        },
        "id": "i3tXt9i4UUwu",
        "outputId": "6e7713b2-b79b-40b7-a231-2871f192ea0b"
      },
      "execution_count": 30,
      "outputs": [
        {
          "output_type": "stream",
          "name": "stdout",
          "text": [
            "★★\n",
            "★★\n"
          ]
        }
      ]
    },
    {
      "cell_type": "markdown",
      "source": [
        "### [실습문제] 커피 자판기"
      ],
      "metadata": {
        "id": "PElm486CWOWP"
      }
    },
    {
      "cell_type": "code",
      "source": [
        "menu = '''[커피 주문 머신 메뉴]\n",
        "-------------------------------\n",
        "- 아메리카노 : 2500원\n",
        "- 카페라떼 :   3000원\n",
        "- 카페모카 :   3000원\n",
        "-------------------------------\n",
        "원하시는 커피종류와 잔수를 입력하세요.'''\n",
        "print(menu)\n",
        "coffee1 = int(input('아메리카노 몇잔 : '))\n",
        "coffee2 = int(input('카페라떼   몇잔 : '))\n",
        "coffee3 = int(input('카페모카   몇잔 : '))\n",
        "total = 2500*coffee1 + 3000*coffee2 + 3000*coffee3\n",
        "print(f\"지불할 총 금액은 {total}원 입니다.\")\n",
        "money = int(input('돈을 넣어 주세요: '))\n",
        "\n",
        "while True:\n",
        "    pirnt(\"----------------------\")\n",
        "    money = int(input('돈을 넣어 주세요: '))\n",
        "\n",
        "    change = money - total    # 잔돈\n",
        "    if change < 0:\n",
        "        print(f\"돈이 부족합니다. {abs(change):,}를 더 넣어주세요.\")\n",
        "        total = total - money\n",
        "    else:\n",
        "        print(f\"거스름돈은 {change:,}입니다. 커피 맛있게 드세요.\")\n",
        "        braek"
      ],
      "metadata": {
        "colab": {
          "base_uri": "https://localhost:8080/"
        },
        "id": "zXwOR5XpWRxQ",
        "outputId": "27b902ba-1adb-40d5-ea37-03a9cc703efa"
      },
      "execution_count": 31,
      "outputs": [
        {
          "output_type": "stream",
          "name": "stdout",
          "text": [
            "[커피 주문 머신 메뉴]\n",
            "-------------------------------\n",
            "- 아메리카노 : 2500원\n",
            "- 카페라떼 :   3000원\n",
            "- 카페모카 :   3000원\n",
            "-------------------------------\n",
            "원하시는 커피종류와 잔수를 입력하세요.\n",
            "아메리카노 몇잔 : 1\n",
            "카페라떼   몇잔 : 1\n",
            "카페모카   몇잔 : 1\n",
            "지불할 총 금액은 8500원 입니다.\n",
            "돈을 넣어 주세요: 10000\n",
            "거스름돈은 1,500입니다. 커피 맛있게 드세요.\n"
          ]
        }
      ]
    },
    {
      "cell_type": "code",
      "source": [
        "print('호텔관리 시스템입니다.')\n",
        "menu = '''1. 체크인\n",
        "2. 체크아웃\n",
        "3. 입실현황\n",
        "0. 종료'''\n",
        "number = int(input('호텔 방의 개수(입력): '))\n",
        "hotel = [0 for _ in range(number)]\n",
        "print(f\"방 현황: {hotel} (0:빈방, 1:입실중)\")\n",
        "while True:\n",
        "    print(f'-----------------------\\n{menu}')\n",
        "    print()\n",
        "    select = input('-->메뉴 선택')\n",
        "    if select == 0:\n",
        "        break\n",
        "\n",
        "    if select == '1': # 체크인\n",
        "        num = int(input(f'체크인하실 방 호수(1~{len(hotel)}): '))\n",
        "        if hotel[num-1]:  # 이미 입실 중일 때\n",
        "            print(f\"{num}번 방은 이미 입실 중입니다.\")\n",
        "            continue\n",
        "        else:\n",
        "            hotel[num-1] = 1\n",
        "        continue\n",
        "\n",
        "    if select == '2': # 체크아웃\n",
        "        pass\n",
        "\n",
        "    if select == '3': # 현황보기\n",
        "        for idx, room in enumerate(hotel): #[0,0,0]\n",
        "            if room == 0:\n",
        "                print(f\"{idx+1}}호: 빈방\")\n",
        "            elif room == 1:\n",
        "                print(f\"{idx+1}호: 입실중\")\n",
        "\n",
        "\n",
        "print('프로그램 종료!')"
      ],
      "metadata": {
        "colab": {
          "base_uri": "https://localhost:8080/",
          "height": 110
        },
        "id": "A1o9GrjuWJHf",
        "outputId": "953dfd39-5624-48cb-f726-c4d037726496"
      },
      "execution_count": 39,
      "outputs": [
        {
          "output_type": "error",
          "ename": "SyntaxError",
          "evalue": "f-string: single '}' is not allowed (<ipython-input-39-67b9659f750a>, line 31)",
          "traceback": [
            "\u001b[0;36m  File \u001b[0;32m\"<ipython-input-39-67b9659f750a>\"\u001b[0;36m, line \u001b[0;32m31\u001b[0m\n\u001b[0;31m    print(f\"{idx+1}}호: 빈방\")\u001b[0m\n\u001b[0m                          ^\u001b[0m\n\u001b[0;31mSyntaxError\u001b[0m\u001b[0;31m:\u001b[0m f-string: single '}' is not allowed\n"
          ]
        }
      ]
    },
    {
      "cell_type": "code",
      "source": [
        "import random\n",
        "\n",
        "rolls = [random.randint(1, 6) for _ in range(100)]\n",
        "\n",
        "count = {1: 0, 2: 0, 3: 0, 4: 0, 5: 0, 6: 0}\n",
        "for roll in rolls:\n",
        "    count[roll] += 1\n",
        "\n",
        "max_count = 0\n",
        "max_number = None\n",
        "for number, cnt in count.items():\n",
        "    if cnt > max_count:\n",
        "        max_count = cnt\n",
        "        max_number = number\n",
        "\n",
        "print(f'가장 많이 나온 주사위 숫자: [{max_number}], 횟수: {max_count}')"
      ],
      "metadata": {
        "colab": {
          "base_uri": "https://localhost:8080/"
        },
        "id": "f46OV4RSfO6t",
        "outputId": "1800f8b7-4e7b-47b3-c52e-9e0b0e7970bc"
      },
      "execution_count": 40,
      "outputs": [
        {
          "output_type": "stream",
          "name": "stdout",
          "text": [
            "가장 많이 나온 주사위 숫자: [5], 횟수: 20\n"
          ]
        }
      ]
    },
    {
      "cell_type": "code",
      "source": [
        "import random\n",
        "\n",
        "# 주사위를 100번 던지는 시뮬레이션\n",
        "rolls = [random.randint(1, 6) for _ in range(100)]\n",
        "\n",
        "# 각 숫자별로 카운트\n",
        "count = {1: 0, 2: 0, 3: 0, 4: 0, 5: 0, 6: 0}\n",
        "for roll in rolls:\n",
        "    count[roll] += 1\n",
        "\n",
        "# 결과 출력\n",
        "print(\"주사위를 100번 던졌을 때 각 숫자별 개수:\")\n",
        "for number, cnt in count.items():\n",
        "    print(\"숫자\", number, \":\", cnt, \"번\")\n",
        "\n",
        "# 가장 많이 나온 숫자와 그 횟수 찾기\n",
        "max_count = max(count.values())\n",
        "max_number = [number for number, cnt in count.items() if cnt == max_count]\n",
        "\n",
        "# 결과 출력\n",
        "print(f'가장 많이 나온 주사위 숫자: [{max_number}], 횟수: {max_count}')"
      ],
      "metadata": {
        "colab": {
          "base_uri": "https://localhost:8080/"
        },
        "id": "XuuACyYIrPEb",
        "outputId": "fc8ce2cb-cad2-4d84-8967-38ce94cbfb51"
      },
      "execution_count": 42,
      "outputs": [
        {
          "output_type": "stream",
          "name": "stdout",
          "text": [
            "주사위를 100번 던졌을 때 각 숫자별 개수:\n",
            "숫자 1 : 15 번\n",
            "숫자 2 : 14 번\n",
            "숫자 3 : 18 번\n",
            "숫자 4 : 19 번\n",
            "숫자 5 : 19 번\n",
            "숫자 6 : 15 번\n",
            "가장 많이 나온 주사위 숫자: [[4, 5]], 횟수: 19\n"
          ]
        }
      ]
    },
    {
      "cell_type": "code",
      "source": [],
      "metadata": {
        "id": "piV-k-T2s9ch"
      },
      "execution_count": null,
      "outputs": []
    }
  ]
}