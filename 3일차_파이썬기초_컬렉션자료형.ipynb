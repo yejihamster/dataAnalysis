{
  "nbformat": 4,
  "nbformat_minor": 0,
  "metadata": {
    "colab": {
      "provenance": [],
      "authorship_tag": "ABX9TyNREp4bkGfSxBdbvkOdiWnV",
      "include_colab_link": true
    },
    "kernelspec": {
      "name": "python3",
      "display_name": "Python 3"
    },
    "language_info": {
      "name": "python"
    }
  },
  "cells": [
    {
      "cell_type": "markdown",
      "metadata": {
        "id": "view-in-github",
        "colab_type": "text"
      },
      "source": [
        "<a href=\"https://colab.research.google.com/github/yejihamster/dataAnalysis/blob/main/3%EC%9D%BC%EC%B0%A8_%ED%8C%8C%EC%9D%B4%EC%8D%AC%EA%B8%B0%EC%B4%88_%EC%BB%AC%EB%A0%89%EC%85%98%EC%9E%90%EB%A3%8C%ED%98%95.ipynb\" target=\"_parent\"><img src=\"https://colab.research.google.com/assets/colab-badge.svg\" alt=\"Open In Colab\"/></a>"
      ]
    },
    {
      "cell_type": "code",
      "execution_count": null,
      "metadata": {
        "id": "A0K3plezTS-x"
      },
      "outputs": [],
      "source": []
    },
    {
      "cell_type": "markdown",
      "source": [
        "# 3. 컬렉션 자료형"
      ],
      "metadata": {
        "id": "9O5n9FZKToNL"
      }
    },
    {
      "cell_type": "markdown",
      "source": [
        "## 3-1. 리스트(List)"
      ],
      "metadata": {
        "id": "84jZs_pYTsXZ"
      }
    },
    {
      "cell_type": "markdown",
      "source": [
        "### 리스트 생성"
      ],
      "metadata": {
        "id": "12UmNwLYTyYZ"
      }
    },
    {
      "cell_type": "code",
      "source": [
        "# 빈 리스트 생성\n",
        "a = []\n",
        "a = list()\n",
        "print( type(a) )\n",
        "print(a)"
      ],
      "metadata": {
        "colab": {
          "base_uri": "https://localhost:8080/"
        },
        "id": "DZNuxKOAT2Ko",
        "outputId": "0dc525f6-084c-4c36-e24c-07bcc2f07d72"
      },
      "execution_count": 3,
      "outputs": [
        {
          "output_type": "stream",
          "name": "stdout",
          "text": [
            "<class 'list'>\n",
            "[]\n"
          ]
        }
      ]
    },
    {
      "cell_type": "code",
      "source": [
        "# 초기 데이터 넣고 리스트 생성\n",
        "import math\n",
        "a = [1,2,3,4,5]\n",
        "a = [1,\"apple\",\"딸기\",3.14,math.pi,max([10,30,20])]\n",
        "b = [1,2,a,['사과','딸기'],{'k':'kiwi'}]\n",
        "print(a)\n",
        "print(b)"
      ],
      "metadata": {
        "colab": {
          "base_uri": "https://localhost:8080/"
        },
        "id": "3Z6qVKzIUR7Y",
        "outputId": "3daf9046-cacc-46ca-a6a8-bf8e9d19f368"
      },
      "execution_count": 6,
      "outputs": [
        {
          "output_type": "stream",
          "name": "stdout",
          "text": [
            "[1, 'apple', '딸기', 3.14, 3.141592653589793, 30]\n",
            "[1, 2, [1, 'apple', '딸기', 3.14, 3.141592653589793, 30], ['사과', '딸기'], {'k': 'kiwi'}]\n"
          ]
        }
      ]
    },
    {
      "cell_type": "code",
      "source": [
        "numlist = []\n",
        "for num in range(1,21,2): #for 반복문, range() : 정수를 순차로 발생시키는 함수\n",
        "    numlist.append(num) # 리스트에 데이터 추가\n",
        "print(numlist)"
      ],
      "metadata": {
        "colab": {
          "base_uri": "https://localhost:8080/"
        },
        "id": "3RIJLB7JVL0K",
        "outputId": "7a9b4da6-f56c-41c6-db47-e62cc8eda1dc"
      },
      "execution_count": 7,
      "outputs": [
        {
          "output_type": "stream",
          "name": "stdout",
          "text": [
            "[1, 3, 5, 7, 9, 11, 13, 15, 17, 19]\n"
          ]
        }
      ]
    },
    {
      "cell_type": "code",
      "source": [
        "print(b)\n",
        "for i in b: # for 반복문, b라는 이름의 리스트 안에 있는 요소를 하나씩 출력하는 코드\n",
        "  print(i)\n"
      ],
      "metadata": {
        "colab": {
          "base_uri": "https://localhost:8080/"
        },
        "id": "44dC1ODOViYx",
        "outputId": "5503fb8d-05cf-48f5-d18f-749344b3273d"
      },
      "execution_count": 13,
      "outputs": [
        {
          "output_type": "stream",
          "name": "stdout",
          "text": [
            "[1, 2, [1, 'apple', '딸기', 3.14, 3.141592653589793, 30], ['사과', '딸기'], {'k': 'kiwi'}]\n",
            "1\n",
            "2\n",
            "[1, 'apple', '딸기', 3.14, 3.141592653589793, 30]\n",
            "['사과', '딸기']\n",
            "{'k': 'kiwi'}\n"
          ]
        }
      ]
    },
    {
      "cell_type": "markdown",
      "source": [
        "### 리스트 요소에 접근"
      ],
      "metadata": {
        "id": "i599L3LiXYip"
      }
    },
    {
      "cell_type": "code",
      "source": [
        "colors = ['빨강','초록','파랑','노랑','검정']\n",
        "print( colors[0])\n",
        "print( colors[2:4])\n",
        "print( colors[::-1]) # 거꾸로 정렬\n",
        "\n",
        "for color in colors:\n",
        "  print(f\"나는 '{color}'색상을 좋아합니다.\")"
      ],
      "metadata": {
        "colab": {
          "base_uri": "https://localhost:8080/"
        },
        "id": "qepd1FzxXaup",
        "outputId": "87eea00e-65f0-4f89-8d25-c638672c3f7b"
      },
      "execution_count": 16,
      "outputs": [
        {
          "output_type": "stream",
          "name": "stdout",
          "text": [
            "빨강\n",
            "['파랑', '노랑']\n",
            "['검정', '노랑', '파랑', '초록', '빨강']\n",
            "나는 '빨강'색상을 좋아합니다.\n",
            "나는 '초록'색상을 좋아합니다.\n",
            "나는 '파랑'색상을 좋아합니다.\n",
            "나는 '노랑'색상을 좋아합니다.\n",
            "나는 '검정'색상을 좋아합니다.\n"
          ]
        }
      ]
    },
    {
      "cell_type": "markdown",
      "source": [
        "### 리스트에 요소 추가하기"
      ],
      "metadata": {
        "id": "BhVIvrc1YnDA"
      }
    },
    {
      "cell_type": "code",
      "source": [
        "print(colors)\n",
        "# 인덱스 2 위치에 '분홍' 넣기\n",
        "colors.insert(2,'분홍')\n",
        "print(colors)\n",
        "\n",
        "# 맨 뒤에 추가하기\n",
        "colors.append('보라')\n",
        "print(colors)"
      ],
      "metadata": {
        "colab": {
          "base_uri": "https://localhost:8080/"
        },
        "id": "CpciCbpSYpTI",
        "outputId": "b590fe0d-1804-4529-b3f7-61430ce2857a"
      },
      "execution_count": 20,
      "outputs": [
        {
          "output_type": "stream",
          "name": "stdout",
          "text": [
            "['빨강', '초록', '분홍', '분홍', '파랑', '노랑', '검정']\n",
            "['빨강', '초록', '분홍', '분홍', '분홍', '파랑', '노랑', '검정']\n",
            "['빨강', '초록', '분홍', '분홍', '분홍', '파랑', '노랑', '검정', '보라']\n"
          ]
        }
      ]
    },
    {
      "cell_type": "markdown",
      "source": [
        "### 리스트 특정 위치의 요소값 변경"
      ],
      "metadata": {
        "id": "V6w7Pgo3ZfXQ"
      }
    },
    {
      "cell_type": "code",
      "source": [
        "colors[3] = \"주황\"\n",
        "print(colors)\n",
        "colors[1:3] = '갈색'\n",
        "print(colors)\n",
        "colors[1:3] = ['갈색','고동']\n",
        "print(colors)\n",
        "colors[1:4] = '갈색' # 주의! 인덱스 개수가 다르면 대체가 안되고 없어짐.\n",
        "print(colors)"
      ],
      "metadata": {
        "colab": {
          "base_uri": "https://localhost:8080/"
        },
        "id": "BzFwCmvGZkrA",
        "outputId": "423f2c6a-52bf-44b4-8b82-a0ebc89fcf38"
      },
      "execution_count": 27,
      "outputs": [
        {
          "output_type": "stream",
          "name": "stdout",
          "text": [
            "['빨강', '갈색', '고동', '주황', '분홍', '파랑', '노랑', '검정', '보라']\n",
            "['빨강', '갈', '색', '주황', '분홍', '파랑', '노랑', '검정', '보라']\n",
            "['빨강', '갈색', '고동', '주황', '분홍', '파랑', '노랑', '검정', '보라']\n",
            "['빨강', '갈', '색', '분홍', '파랑', '노랑', '검정', '보라']\n"
          ]
        }
      ]
    },
    {
      "cell_type": "markdown",
      "source": [
        "### 리스트 요소 삭제"
      ],
      "metadata": {
        "id": "GMBrXySNbaPQ"
      }
    },
    {
      "cell_type": "code",
      "source": [
        "colors = ['빨강','초록','파랑','노랑','검정','노랑']\n",
        "# 맨 뒤에 있는 것 삭제(꺼내기)\n",
        "colors.pop()\n",
        "print(colors)\n",
        "\n",
        "# 요소값과 일치하는 것 삭제\n",
        "colors.remove('노랑')\n",
        "print(colors)\n",
        "\n",
        "# 전체 요소 삭제\n",
        "colors.clear()\n",
        "print(colors)"
      ],
      "metadata": {
        "colab": {
          "base_uri": "https://localhost:8080/"
        },
        "id": "VBdUN6nubcnI",
        "outputId": "6a3fd568-f264-4f17-8205-9aec6ae0b878"
      },
      "execution_count": 29,
      "outputs": [
        {
          "output_type": "stream",
          "name": "stdout",
          "text": [
            "['빨강', '초록', '파랑', '노랑', '검정']\n",
            "['빨강', '초록', '파랑', '검정']\n"
          ]
        }
      ]
    },
    {
      "cell_type": "markdown",
      "source": [
        "### 리스트 자체 삭제"
      ],
      "metadata": {
        "id": "sWIFDAjjcs5X"
      }
    },
    {
      "cell_type": "code",
      "source": [
        "del(colers)\n",
        "print(colors)"
      ],
      "metadata": {
        "colab": {
          "base_uri": "https://localhost:8080/",
          "height": 166
        },
        "id": "9FSawtzycGVB",
        "outputId": "60d7efd7-e100-45df-885f-af1b5f3bd967"
      },
      "execution_count": 31,
      "outputs": [
        {
          "output_type": "error",
          "ename": "NameError",
          "evalue": "name 'colers' is not defined",
          "traceback": [
            "\u001b[0;31m---------------------------------------------------------------------------\u001b[0m",
            "\u001b[0;31mNameError\u001b[0m                                 Traceback (most recent call last)",
            "\u001b[0;32m<ipython-input-31-56a9078f2d9a>\u001b[0m in \u001b[0;36m<cell line: 1>\u001b[0;34m()\u001b[0m\n\u001b[0;32m----> 1\u001b[0;31m \u001b[0;32mdel\u001b[0m\u001b[0;34m(\u001b[0m\u001b[0mcolers\u001b[0m\u001b[0;34m)\u001b[0m\u001b[0;34m\u001b[0m\u001b[0;34m\u001b[0m\u001b[0m\n\u001b[0m\u001b[1;32m      2\u001b[0m \u001b[0mprint\u001b[0m\u001b[0;34m(\u001b[0m\u001b[0mcolors\u001b[0m\u001b[0;34m)\u001b[0m\u001b[0;34m\u001b[0m\u001b[0;34m\u001b[0m\u001b[0m\n",
            "\u001b[0;31mNameError\u001b[0m: name 'colers' is not defined"
          ]
        }
      ]
    },
    {
      "cell_type": "markdown",
      "source": [
        "### 2차원 / 3차원... 리스트 요소 접근"
      ],
      "metadata": {
        "id": "OPAQ3b8mc5OV"
      }
    },
    {
      "cell_type": "code",
      "source": [
        "animals = ['사자','호랑이','곰',\n",
        "          ['고양이','강아지',['돌고래','범고래'],'햄스터']\n",
        "          ]\n",
        "\n",
        "print(animals)\n",
        "print(animals[1])\n",
        "print(animals[3])\n",
        "print(animals[3][1])\n",
        "print(animals[3][2][1])\n",
        "print(len(animals))"
      ],
      "metadata": {
        "colab": {
          "base_uri": "https://localhost:8080/"
        },
        "id": "3f7wKd2sc-bH",
        "outputId": "67b1d8ce-7e26-41f0-ce45-3a5ab6934cac"
      },
      "execution_count": 34,
      "outputs": [
        {
          "output_type": "stream",
          "name": "stdout",
          "text": [
            "['사자', '호랑이', '곰', ['고양이', '강아지', ['돌고래', '범고래'], '햄스터']]\n",
            "호랑이\n",
            "['고양이', '강아지', ['돌고래', '범고래'], '햄스터']\n",
            "강아지\n",
            "범고래\n",
            "4\n"
          ]
        }
      ]
    },
    {
      "cell_type": "markdown",
      "source": [
        "### 리스트 길이(요소의 개수)"
      ],
      "metadata": {
        "id": "I8n-ukCffYif"
      }
    },
    {
      "cell_type": "code",
      "source": [
        "print(animals)\n",
        "print(len(animals))\n",
        "print(len(animals[3]))\n",
        "print(len(animals[3][2]))"
      ],
      "metadata": {
        "colab": {
          "base_uri": "https://localhost:8080/"
        },
        "id": "1eFvpmBCfcAO",
        "outputId": "2419750c-0770-4cb4-9013-43a8b4a2b7d9"
      },
      "execution_count": 36,
      "outputs": [
        {
          "output_type": "stream",
          "name": "stdout",
          "text": [
            "['사자', '호랑이', '곰', ['고양이', '강아지', ['돌고래', '범고래'], '햄스터']]\n",
            "4\n",
            "4\n",
            "2\n"
          ]
        }
      ]
    },
    {
      "cell_type": "markdown",
      "source": [
        "### 리스트 함수"
      ],
      "metadata": {
        "id": "AJnZRB-tgDcm"
      }
    },
    {
      "cell_type": "code",
      "source": [
        "colors = ['빨강','초록','파랑','노랑','검정','노랑']\n",
        "\n",
        "# 리스트 요소 정렬\n",
        "colors.sort()  # 순차 정렬\n",
        "print(colors)\n",
        "\n",
        "colors.reverse()  # 역순 정렬\n",
        "print(colors)\n",
        "\n",
        "# 리스트의 특정 요소 위치 찾기\n",
        "print( colors.index('빨강') )\n",
        "print( colors.index('노랑') ) # 여러 개 있을 경우 맨 앞의 인덱스 나타내기\n",
        "\n",
        "# 요소 값 개수세기\n",
        "print(f\"요소 값 개수세기 : {colors.count('노랑')}\")\n",
        "\n",
        "# 리스트 정렬해서 새로운 이름을 저장해서 사용\n",
        "new = sorted(colors)\n",
        "print(f\"새 리스트 만들기 : {new}\")"
      ],
      "metadata": {
        "colab": {
          "base_uri": "https://localhost:8080/"
        },
        "id": "9-mSzWy-gHFO",
        "outputId": "6877adda-0181-4421-ad15-57b4dc322dbc"
      },
      "execution_count": 45,
      "outputs": [
        {
          "output_type": "stream",
          "name": "stdout",
          "text": [
            "['검정', '노랑', '노랑', '빨강', '초록', '파랑']\n",
            "['파랑', '초록', '빨강', '노랑', '노랑', '검정']\n",
            "2\n",
            "3\n",
            "요소 값 개수세기 : 2\n",
            "새 리스트 만들기 : ['검정', '노랑', '노랑', '빨강', '초록', '파랑']\n"
          ]
        }
      ]
    },
    {
      "cell_type": "code",
      "source": [
        "colors = ['빨강','초록','파랑','노랑','검정','노랑']\n",
        "newColors = ['red','green','blue']\n",
        "print(colors)\n",
        "print(newColors)\n",
        "colors.extend(newColors)\n",
        "print(colors)\n",
        "\n",
        "\n",
        "colors = ['빨강','초록','파랑','노랑','검정','노랑']\n",
        "newColors = ['red','green','blue']\n",
        "\n",
        "colors += newColors\n",
        "print(colors)"
      ],
      "metadata": {
        "colab": {
          "base_uri": "https://localhost:8080/"
        },
        "id": "u0b7T0TdiB0P",
        "outputId": "1b9d48de-9c9b-44f5-f2c4-b17abaf1eb51"
      },
      "execution_count": 49,
      "outputs": [
        {
          "output_type": "stream",
          "name": "stdout",
          "text": [
            "['빨강', '초록', '파랑', '노랑', '검정', '노랑']\n",
            "['red', 'green', 'blue']\n",
            "['빨강', '초록', '파랑', '노랑', '검정', '노랑', 'red', 'green', 'blue']\n",
            "['빨강', '초록', '파랑', '노랑', '검정', '노랑', 'red', 'green', 'blue']\n"
          ]
        }
      ]
    },
    {
      "cell_type": "code",
      "source": [],
      "metadata": {
        "id": "yFDymqXDjOjg"
      },
      "execution_count": null,
      "outputs": []
    },
    {
      "cell_type": "markdown",
      "source": [
        "## 3-2. 딕셔너리(Dictionary)\n"
      ],
      "metadata": {
        "id": "Kcy0zk9Dnggm"
      }
    },
    {
      "cell_type": "markdown",
      "source": [
        "### 딕셔너리 자료 생성"
      ],
      "metadata": {
        "id": "0Daqx2fwshXn"
      }
    },
    {
      "cell_type": "code",
      "source": [
        "dic = dict()  # 빈 딕셔너리 생성\n",
        "dic = {} # 빈 딕셔너리 생성\n",
        "print( type(dic) )\n"
      ],
      "metadata": {
        "colab": {
          "base_uri": "https://localhost:8080/"
        },
        "id": "CvzYS0g-tUFG",
        "outputId": "fbb4ec71-edf3-47aa-fef4-7ca0116f5b4b"
      },
      "execution_count": 50,
      "outputs": [
        {
          "output_type": "stream",
          "name": "stdout",
          "text": [
            "<class 'dict'>\n"
          ]
        }
      ]
    },
    {
      "cell_type": "code",
      "source": [
        "# 딕셔너리는 key:Value 구조\n",
        "members = {1:'이승철',2:'박정현','bts':['진','RM','뷔','지민']}\n",
        "print(members)\n",
        "print(members[2]) # 2는 key이다.\n",
        "print(members['bts'])\n",
        "print(members['bts'][1])\n",
        "print( len(members) )"
      ],
      "metadata": {
        "colab": {
          "base_uri": "https://localhost:8080/"
        },
        "id": "S_L11VsQtrBl",
        "outputId": "8aa33207-9741-41f4-f6f5-fdfdfbe51a3c"
      },
      "execution_count": 54,
      "outputs": [
        {
          "output_type": "stream",
          "name": "stdout",
          "text": [
            "{1: '이승철', 2: '박정현', 'bts': ['진', 'RM', '뷔', '지민']}\n",
            "박정현\n",
            "['진', 'RM', '뷔', '지민']\n",
            "RM\n",
            "3\n"
          ]
        }
      ]
    },
    {
      "cell_type": "markdown",
      "source": [
        "### 딕셔너리에서 Value에 접근하기\n",
        "- Key를 통해서 Value에 접근할 수 있다."
      ],
      "metadata": {
        "id": "K4UVUjikv0ak"
      }
    },
    {
      "cell_type": "code",
      "source": [
        "members = {1:'이승철',2:'박정현','bts':['진','RM','뷔','지민']}\n",
        "for key in members:\n",
        "  print(f\"key->{key}, Value->{members[key]}\")\n"
      ],
      "metadata": {
        "colab": {
          "base_uri": "https://localhost:8080/"
        },
        "id": "b0EmrCemvJCe",
        "outputId": "29fa95cd-dc73-43c0-8fa6-401672a943b9"
      },
      "execution_count": 56,
      "outputs": [
        {
          "output_type": "stream",
          "name": "stdout",
          "text": [
            "key->1, Value->이승철\n",
            "key->2, Value->박정현\n",
            "key->bts, Value->['진', 'RM', '뷔', '지민']\n"
          ]
        }
      ]
    },
    {
      "cell_type": "markdown",
      "source": [
        "### 딕셔너리에서 자주 사용하는 함수"
      ],
      "metadata": {
        "id": "IsM2ykRNwGsp"
      }
    },
    {
      "cell_type": "code",
      "source": [
        "members = {1:'이승철',2:'박정현','bts':['진','RM','뷔','지민']}\n",
        "print(members.keys()) # key만 모아둔 것\n",
        "print(members.values()) # Value만 모아둔 것\n",
        "print(members.items()) # (key, value) 쌍으로 모아둔 것"
      ],
      "metadata": {
        "colab": {
          "base_uri": "https://localhost:8080/"
        },
        "id": "5K3M8-DnwEKV",
        "outputId": "923843f4-3ebd-4307-f914-1bb563306545"
      },
      "execution_count": 58,
      "outputs": [
        {
          "output_type": "stream",
          "name": "stdout",
          "text": [
            "dict_keys([1, 2, 'bts'])\n",
            "dict_values(['이승철', '박정현', ['진', 'RM', '뷔', '지민']])\n",
            "dict_items([(1, '이승철'), (2, '박정현'), ('bts', ['진', 'RM', '뷔', '지민'])])\n"
          ]
        }
      ]
    },
    {
      "cell_type": "code",
      "source": [
        "# for (key, value) in members.items():\n",
        "for key, value in members.items():\n",
        "  print( key, value)\n",
        "\n",
        "\n",
        "for key in members.keys():\n",
        "  print( key, members[key])\n",
        "\n",
        "\n",
        "for key in members:\n",
        "  print (key, members[key])"
      ],
      "metadata": {
        "colab": {
          "base_uri": "https://localhost:8080/"
        },
        "id": "1I0D903fwvZ-",
        "outputId": "2cfcd6bd-66ef-4087-df95-4398bdf4c5fd"
      },
      "execution_count": 61,
      "outputs": [
        {
          "output_type": "stream",
          "name": "stdout",
          "text": [
            "1 이승철\n",
            "2 박정현\n",
            "bts ['진', 'RM', '뷔', '지민']\n",
            "1 이승철\n",
            "2 박정현\n",
            "bts ['진', 'RM', '뷔', '지민']\n",
            "1 이승철\n",
            "2 박정현\n",
            "bts ['진', 'RM', '뷔', '지민']\n"
          ]
        }
      ]
    },
    {
      "cell_type": "markdown",
      "source": [
        "### 딕셔너리에 요소 추가/수정/삭제"
      ],
      "metadata": {
        "id": "anJmJTvex5zG"
      }
    },
    {
      "cell_type": "code",
      "source": [
        "members = {1:'이승철',2:'박정현','bts':['진','RM','뷔','지민']}\n",
        "print(members)\n",
        "\n",
        "# 요소 추가\n",
        "members[3] = 'NCT Dream'\n",
        "members['소속사'] = ['하이브','SM기획']\n",
        "print(members)\n",
        "\n",
        "# 요소 수정\n",
        "members[1] = '세븐틴'\n",
        "print(members)\n",
        "\n",
        "# 요소 삭제\n",
        "del(members['소속사'])\n",
        "print(members)\n",
        "\n",
        "# 딕셔너리 삭제\n",
        "del(members)\n",
        "print(members)"
      ],
      "metadata": {
        "colab": {
          "base_uri": "https://localhost:8080/",
          "height": 257
        },
        "id": "BwKehwm8x9lW",
        "outputId": "2060baeb-ce81-43b8-b368-31556a01c2bd"
      },
      "execution_count": 67,
      "outputs": [
        {
          "output_type": "stream",
          "name": "stdout",
          "text": [
            "{1: '이승철', 2: '박정현', 'bts': ['진', 'RM', '뷔', '지민']}\n",
            "{1: '이승철', 2: '박정현', 'bts': ['진', 'RM', '뷔', '지민'], 3: 'NCT Dream', '소속사': ['하이브', 'SM기획']}\n",
            "{1: '세븐틴', 2: '박정현', 'bts': ['진', 'RM', '뷔', '지민'], 3: 'NCT Dream', '소속사': ['하이브', 'SM기획']}\n",
            "{1: '세븐틴', 2: '박정현', 'bts': ['진', 'RM', '뷔', '지민'], 3: 'NCT Dream'}\n"
          ]
        },
        {
          "output_type": "error",
          "ename": "NameError",
          "evalue": "name 'members' is not defined",
          "traceback": [
            "\u001b[0;31m---------------------------------------------------------------------------\u001b[0m",
            "\u001b[0;31mNameError\u001b[0m                                 Traceback (most recent call last)",
            "\u001b[0;32m<ipython-input-67-f3e6d2309780>\u001b[0m in \u001b[0;36m<cell line: 19>\u001b[0;34m()\u001b[0m\n\u001b[1;32m     17\u001b[0m \u001b[0;31m# 딕셔너리 삭제\u001b[0m\u001b[0;34m\u001b[0m\u001b[0;34m\u001b[0m\u001b[0m\n\u001b[1;32m     18\u001b[0m \u001b[0;32mdel\u001b[0m\u001b[0;34m(\u001b[0m\u001b[0mmembers\u001b[0m\u001b[0;34m)\u001b[0m\u001b[0;34m\u001b[0m\u001b[0;34m\u001b[0m\u001b[0m\n\u001b[0;32m---> 19\u001b[0;31m \u001b[0mprint\u001b[0m\u001b[0;34m(\u001b[0m\u001b[0mmembers\u001b[0m\u001b[0;34m)\u001b[0m\u001b[0;34m\u001b[0m\u001b[0;34m\u001b[0m\u001b[0m\n\u001b[0m",
            "\u001b[0;31mNameError\u001b[0m: name 'members' is not defined"
          ]
        }
      ]
    },
    {
      "cell_type": "markdown",
      "source": [
        "## 3-3. 튜플(Tuple)"
      ],
      "metadata": {
        "id": "_cx1KLodzZQv"
      }
    },
    {
      "cell_type": "markdown",
      "source": [
        "### 튜플 생성"
      ],
      "metadata": {
        "id": "REneHjlSzi4N"
      }
    },
    {
      "cell_type": "code",
      "source": [
        "tup = tuple()  # 빈 튜플 생성\n",
        "tup = () # 빈 튜플 생성\n",
        "print( type(tup) )\n",
        "\n",
        "a = [1,2,3,4]\n",
        "print(a)\n",
        "print( tuple(a) ) # 리스트를 튜플로 변환"
      ],
      "metadata": {
        "colab": {
          "base_uri": "https://localhost:8080/"
        },
        "id": "_xBHvVS4z3Ww",
        "outputId": "59cb209c-8969-4313-d4d7-2cfc30a5058b"
      },
      "execution_count": 70,
      "outputs": [
        {
          "output_type": "stream",
          "name": "stdout",
          "text": [
            "<class 'tuple'>\n",
            "[1, 2, 3, 4]\n",
            "(1, 2, 3, 4)\n"
          ]
        }
      ]
    },
    {
      "cell_type": "code",
      "source": [
        "tup = ('사과')  # 괄호는 묶음의 의미로 해석\n",
        "print( type(tup) )\n",
        "tup = ('사과',)  # 튜플에서 요소가 하나일 때는 반드시 맨 뒤에 ,(쉼표)추가\n",
        "print( type(tup) )"
      ],
      "metadata": {
        "colab": {
          "base_uri": "https://localhost:8080/"
        },
        "id": "zI-YtU7G0fiW",
        "outputId": "8c3cfe68-e621-4319-cf02-950b03478c6e"
      },
      "execution_count": 72,
      "outputs": [
        {
          "output_type": "stream",
          "name": "stdout",
          "text": [
            "<class 'str'>\n",
            "<class 'tuple'>\n"
          ]
        }
      ]
    },
    {
      "cell_type": "code",
      "source": [
        "from pickle import TUPLE\n",
        "help(TUPLE) # 자료형에 대한 도움말"
      ],
      "metadata": {
        "id": "X7UKmRo41ERw"
      },
      "execution_count": null,
      "outputs": []
    },
    {
      "cell_type": "markdown",
      "source": [
        "### 튜플은 변수를 정의할 때/함수의 파라미터의 정의에 사용"
      ],
      "metadata": {
        "id": "LF4GrIDF2DeU"
      }
    },
    {
      "cell_type": "code",
      "source": [
        "a,b = 100, 200\n",
        "a,b = 100,[1,2,3]\n",
        "print(a)\n",
        "print(b)"
      ],
      "metadata": {
        "colab": {
          "base_uri": "https://localhost:8080/"
        },
        "id": "RczlTH8d2QMX",
        "outputId": "9435ee16-eb78-4fbd-bdf5-93763cc20c0d"
      },
      "execution_count": 78,
      "outputs": [
        {
          "output_type": "stream",
          "name": "stdout",
          "text": [
            "100\n",
            "[1, 2, 3]\n"
          ]
        }
      ]
    },
    {
      "cell_type": "code",
      "source": [
        "def nSum(a,b):  # parameter\n",
        "  return a + b\n",
        "\n",
        "nSum(100, 200)  # argument"
      ],
      "metadata": {
        "colab": {
          "base_uri": "https://localhost:8080/"
        },
        "id": "v99YBIvW2lTc",
        "outputId": "caa38a94-a57c-4655-b5dc-cf4d22e677c4"
      },
      "execution_count": 79,
      "outputs": [
        {
          "output_type": "execute_result",
          "data": {
            "text/plain": [
              "300"
            ]
          },
          "metadata": {},
          "execution_count": 79
        }
      ]
    },
    {
      "cell_type": "markdown",
      "source": [
        "## 3-4. 집합(Set)"
      ],
      "metadata": {
        "id": "KPPqTXYr6Rik"
      }
    },
    {
      "cell_type": "markdown",
      "source": [
        "## 집합 생성"
      ],
      "metadata": {
        "id": "cfRBmTdQ6WqU"
      }
    },
    {
      "cell_type": "code",
      "source": [
        "a = set() # 빈 집합 생성\n",
        "print( type(a))\n",
        "\n",
        "a = {1,2,3,4,2,2,4} # unique한 데이터만 남는다.\n",
        "print(a)"
      ],
      "metadata": {
        "colab": {
          "base_uri": "https://localhost:8080/"
        },
        "id": "hSzeJ42B5sAb",
        "outputId": "d5db5943-5d48-489b-b0d8-73f9e0992274"
      },
      "execution_count": 81,
      "outputs": [
        {
          "output_type": "stream",
          "name": "stdout",
          "text": [
            "<class 'set'>\n",
            "{1, 2, 3, 4}\n"
          ]
        }
      ]
    },
    {
      "cell_type": "markdown",
      "source": [
        "### 집합은 중복된 데이터는 배제한다.\n",
        "- unique한 데이터만 남는다.\n",
        "- 순서가 없다"
      ],
      "metadata": {
        "id": "qHZqHpkv6v-Y"
      }
    },
    {
      "cell_type": "code",
      "source": [
        "a = [1,2,3,4,5,6,7,2,2,3,5,6,7,5,2]\n",
        "print(a)\n",
        "a = list(set(a))\n",
        "print(a)"
      ],
      "metadata": {
        "colab": {
          "base_uri": "https://localhost:8080/"
        },
        "id": "7dsm3_qy63bh",
        "outputId": "000b03ed-0bfc-4b89-8b6a-903ccd352547"
      },
      "execution_count": 82,
      "outputs": [
        {
          "output_type": "stream",
          "name": "stdout",
          "text": [
            "[1, 2, 3, 4, 5, 6, 7, 2, 2, 3, 5, 6, 7, 5, 2]\n",
            "[1, 2, 3, 4, 5, 6, 7]\n"
          ]
        }
      ]
    },
    {
      "cell_type": "markdown",
      "source": [
        "### 집합에 요소 추가/삭제"
      ],
      "metadata": {
        "id": "VFv-zQNa7Wu8"
      }
    },
    {
      "cell_type": "code",
      "source": [
        "S = {1,2,3,'a','b'}\n",
        "print(S)\n",
        "\n",
        "## 요소 1개 추가\n",
        "S.add(4)\n",
        "print(S)\n",
        "\n",
        "# 요소 여러 개 추가\n",
        "S.update(['c','d',5])\n",
        "print(S)\n",
        "S.update('apple')\n",
        "print(S)\n",
        "\n",
        "# 요소 1개 삭제\n",
        "S.discard('a')\n",
        "print(S)\n",
        "S.discard('apple')\n",
        "print(S)\n",
        "# S.discard('p','l') # 오류 발생\n",
        "# print(S)\n",
        "\n",
        "# 특정 요소 삭제\n",
        "S.remove(1)\n",
        "print(S)\n",
        "\n",
        "# 임의의 요소 1개 삭제\n",
        "S.pop()\n",
        "print(S)"
      ],
      "metadata": {
        "colab": {
          "base_uri": "https://localhost:8080/"
        },
        "id": "kt2Ulalr7hfI",
        "outputId": "ea0b0992-2938-48e3-9794-c76f04c1e8d1"
      },
      "execution_count": 92,
      "outputs": [
        {
          "output_type": "stream",
          "name": "stdout",
          "text": [
            "{1, 2, 3, 'a', 'b'}\n",
            "{1, 2, 3, 'a', 4, 'b'}\n",
            "{1, 2, 3, 4, 'd', 5, 'b', 'c', 'a'}\n",
            "{1, 2, 3, 4, 'd', 5, 'l', 'e', 'b', 'c', 'p', 'a'}\n",
            "{1, 2, 3, 4, 'd', 5, 'l', 'e', 'b', 'c', 'p'}\n",
            "{1, 2, 3, 4, 'd', 5, 'l', 'e', 'b', 'c', 'p'}\n",
            "{2, 3, 4, 'd', 5, 'l', 'e', 'b', 'c', 'p'}\n",
            "{3, 4, 'd', 5, 'l', 'e', 'b', 'c', 'p'}\n"
          ]
        }
      ]
    },
    {
      "cell_type": "code",
      "source": [
        "# 집합 삭제\n",
        "del(S)\n",
        "print(S)\n"
      ],
      "metadata": {
        "colab": {
          "base_uri": "https://localhost:8080/",
          "height": 166
        },
        "id": "Z2D7ovrk9bYU",
        "outputId": "c6f76f4b-0fd2-4dc0-9c6c-9e0e59f72237"
      },
      "execution_count": 93,
      "outputs": [
        {
          "output_type": "error",
          "ename": "NameError",
          "evalue": "name 'S' is not defined",
          "traceback": [
            "\u001b[0;31m---------------------------------------------------------------------------\u001b[0m",
            "\u001b[0;31mNameError\u001b[0m                                 Traceback (most recent call last)",
            "\u001b[0;32m<ipython-input-93-59287c1ae037>\u001b[0m in \u001b[0;36m<cell line: 2>\u001b[0;34m()\u001b[0m\n\u001b[1;32m      1\u001b[0m \u001b[0;32mdel\u001b[0m\u001b[0;34m(\u001b[0m\u001b[0mS\u001b[0m\u001b[0;34m)\u001b[0m\u001b[0;34m\u001b[0m\u001b[0;34m\u001b[0m\u001b[0m\n\u001b[0;32m----> 2\u001b[0;31m \u001b[0mprint\u001b[0m\u001b[0;34m(\u001b[0m\u001b[0mS\u001b[0m\u001b[0;34m)\u001b[0m\u001b[0;34m\u001b[0m\u001b[0;34m\u001b[0m\u001b[0m\n\u001b[0m",
            "\u001b[0;31mNameError\u001b[0m: name 'S' is not defined"
          ]
        }
      ]
    },
    {
      "cell_type": "markdown",
      "source": [
        "### 교집합/합집합/차집합"
      ],
      "metadata": {
        "id": "LKRt3X_Y-k9K"
      }
    },
    {
      "cell_type": "code",
      "source": [
        "S1 = {1,2,3,4,5}\n",
        "S2 = {3,4,5,6,7}\n",
        "print(S1)\n",
        "print(S2)\n",
        "# 교집합\n",
        "print(S1 & S2)\n",
        "print(S1.intersection(S2))\n",
        "\n",
        "# 합집합\n",
        "print(S1 | S2)\n",
        "print(S1.union(S2))\n",
        "\n",
        "# 차집합\n",
        "print(S1 - S2)\n",
        "print(S1.difference(S2))\n",
        "print(S2 - S1)\n",
        "print(S2.difference(S1))\n",
        "\n",
        "# 세개 이상 집합에서\n",
        "S3 = {5,6,7}\n",
        "print( S1.intersection_update(S2, S3))"
      ],
      "metadata": {
        "colab": {
          "base_uri": "https://localhost:8080/"
        },
        "id": "LyL7M3Dh-of_",
        "outputId": "ec36b037-6c17-4738-dff5-f6f725bd4d17"
      },
      "execution_count": 97,
      "outputs": [
        {
          "output_type": "stream",
          "name": "stdout",
          "text": [
            "{1, 2, 3, 4, 5}\n",
            "{3, 4, 5, 6, 7}\n",
            "{3, 4, 5}\n",
            "{3, 4, 5}\n",
            "{1, 2, 3, 4, 5, 6, 7}\n",
            "{1, 2, 3, 4, 5, 6, 7}\n",
            "{1, 2}\n",
            "{1, 2}\n",
            "{6, 7}\n",
            "{6, 7}\n",
            "None\n"
          ]
        }
      ]
    },
    {
      "cell_type": "code",
      "source": [
        "# 집합에서 사용\n",
        "# A.intersaction_update(B,C) --> 계산 결과를 A로 다시 변경\n",
        "S1 = {1,2,3,4,5}\n",
        "S2 = {3,4,5,6,7}\n",
        "S3 = {5,6,7}\n",
        "print(S1)\n",
        "print(S2)\n",
        "print(S3)\n",
        "S1.intersection_update(S2, S3)\n",
        "print(S1)"
      ],
      "metadata": {
        "colab": {
          "base_uri": "https://localhost:8080/"
        },
        "id": "Gzs_OTi8AWfT",
        "outputId": "a02682a9-afb3-4391-9909-43bd22d3fdf9"
      },
      "execution_count": 102,
      "outputs": [
        {
          "output_type": "stream",
          "name": "stdout",
          "text": [
            "{1, 2, 3, 4, 5}\n",
            "{3, 4, 5, 6, 7}\n",
            "{5, 6, 7}\n",
            "{5}\n"
          ]
        }
      ]
    },
    {
      "cell_type": "code",
      "source": [],
      "metadata": {
        "id": "9bSnIopSBid3"
      },
      "execution_count": null,
      "outputs": []
    }
  ]
}