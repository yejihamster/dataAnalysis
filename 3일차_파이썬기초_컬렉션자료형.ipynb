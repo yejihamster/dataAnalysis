{
  "nbformat": 4,
  "nbformat_minor": 0,
  "metadata": {
    "colab": {
      "provenance": [],
      "authorship_tag": "ABX9TyMCH5TBd4mPNDmDhhPt8S6L",
      "include_colab_link": true
    },
    "kernelspec": {
      "name": "python3",
      "display_name": "Python 3"
    },
    "language_info": {
      "name": "python"
    }
  },
  "cells": [
    {
      "cell_type": "markdown",
      "metadata": {
        "id": "view-in-github",
        "colab_type": "text"
      },
      "source": [
        "<a href=\"https://colab.research.google.com/github/yejihamster/dataAnalysis/blob/main/3%EC%9D%BC%EC%B0%A8_%ED%8C%8C%EC%9D%B4%EC%8D%AC%EA%B8%B0%EC%B4%88_%EC%BB%AC%EB%A0%89%EC%85%98%EC%9E%90%EB%A3%8C%ED%98%95.ipynb\" target=\"_parent\"><img src=\"https://colab.research.google.com/assets/colab-badge.svg\" alt=\"Open In Colab\"/></a>"
      ]
    },
    {
      "cell_type": "code",
      "execution_count": null,
      "metadata": {
        "id": "A0K3plezTS-x"
      },
      "outputs": [],
      "source": []
    },
    {
      "cell_type": "markdown",
      "source": [
        "# 3. 컬렉션 자료형"
      ],
      "metadata": {
        "id": "9O5n9FZKToNL"
      }
    },
    {
      "cell_type": "markdown",
      "source": [
        "## 3-1. 리스트(List)"
      ],
      "metadata": {
        "id": "84jZs_pYTsXZ"
      }
    },
    {
      "cell_type": "markdown",
      "source": [
        "### 리스트 생성"
      ],
      "metadata": {
        "id": "12UmNwLYTyYZ"
      }
    },
    {
      "cell_type": "code",
      "source": [
        "# 빈 리스트 생성\n",
        "a = []\n",
        "a = list()\n",
        "print( type(a) )\n",
        "print(a)"
      ],
      "metadata": {
        "colab": {
          "base_uri": "https://localhost:8080/"
        },
        "id": "DZNuxKOAT2Ko",
        "outputId": "0dc525f6-084c-4c36-e24c-07bcc2f07d72"
      },
      "execution_count": 3,
      "outputs": [
        {
          "output_type": "stream",
          "name": "stdout",
          "text": [
            "<class 'list'>\n",
            "[]\n"
          ]
        }
      ]
    },
    {
      "cell_type": "code",
      "source": [
        "# 초기 데이터 넣고 리스트 생성\n",
        "import math\n",
        "a = [1,2,3,4,5]\n",
        "a = [1,\"apple\",\"딸기\",3.14,math.pi,max([10,30,20])]\n",
        "b = [1,2,a,['사과','딸기'],{'k':'kiwi'}]\n",
        "print(a)\n",
        "print(b)"
      ],
      "metadata": {
        "colab": {
          "base_uri": "https://localhost:8080/"
        },
        "id": "3Z6qVKzIUR7Y",
        "outputId": "3daf9046-cacc-46ca-a6a8-bf8e9d19f368"
      },
      "execution_count": 6,
      "outputs": [
        {
          "output_type": "stream",
          "name": "stdout",
          "text": [
            "[1, 'apple', '딸기', 3.14, 3.141592653589793, 30]\n",
            "[1, 2, [1, 'apple', '딸기', 3.14, 3.141592653589793, 30], ['사과', '딸기'], {'k': 'kiwi'}]\n"
          ]
        }
      ]
    },
    {
      "cell_type": "code",
      "source": [
        "numlist = []\n",
        "for num in range(1,21,2): #for 반복문, range() : 정수를 순차로 발생시키는 함수\n",
        "    numlist.append(num) # 리스트에 데이터 추가\n",
        "print(numlist)"
      ],
      "metadata": {
        "colab": {
          "base_uri": "https://localhost:8080/"
        },
        "id": "3RIJLB7JVL0K",
        "outputId": "7a9b4da6-f56c-41c6-db47-e62cc8eda1dc"
      },
      "execution_count": 7,
      "outputs": [
        {
          "output_type": "stream",
          "name": "stdout",
          "text": [
            "[1, 3, 5, 7, 9, 11, 13, 15, 17, 19]\n"
          ]
        }
      ]
    },
    {
      "cell_type": "code",
      "source": [
        "print(b)\n",
        "for i in b: # for 반복문, b라는 이름의 리스트 안에 있는 요소를 하나씩 출력하는 코드\n",
        "  print(i)\n"
      ],
      "metadata": {
        "colab": {
          "base_uri": "https://localhost:8080/"
        },
        "id": "44dC1ODOViYx",
        "outputId": "5503fb8d-05cf-48f5-d18f-749344b3273d"
      },
      "execution_count": 13,
      "outputs": [
        {
          "output_type": "stream",
          "name": "stdout",
          "text": [
            "[1, 2, [1, 'apple', '딸기', 3.14, 3.141592653589793, 30], ['사과', '딸기'], {'k': 'kiwi'}]\n",
            "1\n",
            "2\n",
            "[1, 'apple', '딸기', 3.14, 3.141592653589793, 30]\n",
            "['사과', '딸기']\n",
            "{'k': 'kiwi'}\n"
          ]
        }
      ]
    },
    {
      "cell_type": "markdown",
      "source": [
        "### 리스트 요소에 접근"
      ],
      "metadata": {
        "id": "i599L3LiXYip"
      }
    },
    {
      "cell_type": "code",
      "source": [
        "colors = ['빨강','초록','파랑','노랑','검정']\n",
        "print( colors[0])\n",
        "print( colors[2:4])\n",
        "print( colors[::-1]) # 거꾸로 정렬\n",
        "\n",
        "for color in colors:\n",
        "  print(f\"나는 '{color}'색상을 좋아합니다.\")"
      ],
      "metadata": {
        "colab": {
          "base_uri": "https://localhost:8080/"
        },
        "id": "qepd1FzxXaup",
        "outputId": "87eea00e-65f0-4f89-8d25-c638672c3f7b"
      },
      "execution_count": 16,
      "outputs": [
        {
          "output_type": "stream",
          "name": "stdout",
          "text": [
            "빨강\n",
            "['파랑', '노랑']\n",
            "['검정', '노랑', '파랑', '초록', '빨강']\n",
            "나는 '빨강'색상을 좋아합니다.\n",
            "나는 '초록'색상을 좋아합니다.\n",
            "나는 '파랑'색상을 좋아합니다.\n",
            "나는 '노랑'색상을 좋아합니다.\n",
            "나는 '검정'색상을 좋아합니다.\n"
          ]
        }
      ]
    },
    {
      "cell_type": "markdown",
      "source": [
        "### 리스트에 요소 추가하기"
      ],
      "metadata": {
        "id": "BhVIvrc1YnDA"
      }
    },
    {
      "cell_type": "code",
      "source": [
        "print(colors)\n",
        "# 인덱스 2 위치에 '분홍' 넣기\n",
        "colors.insert(2,'분홍')\n",
        "print(colors)\n",
        "\n",
        "# 맨 뒤에 추가하기\n",
        "colors.append('보라')\n",
        "print(colors)"
      ],
      "metadata": {
        "colab": {
          "base_uri": "https://localhost:8080/"
        },
        "id": "CpciCbpSYpTI",
        "outputId": "b590fe0d-1804-4529-b3f7-61430ce2857a"
      },
      "execution_count": 20,
      "outputs": [
        {
          "output_type": "stream",
          "name": "stdout",
          "text": [
            "['빨강', '초록', '분홍', '분홍', '파랑', '노랑', '검정']\n",
            "['빨강', '초록', '분홍', '분홍', '분홍', '파랑', '노랑', '검정']\n",
            "['빨강', '초록', '분홍', '분홍', '분홍', '파랑', '노랑', '검정', '보라']\n"
          ]
        }
      ]
    },
    {
      "cell_type": "markdown",
      "source": [
        "### 리스트 특정 위치의 요소값 변경"
      ],
      "metadata": {
        "id": "V6w7Pgo3ZfXQ"
      }
    },
    {
      "cell_type": "code",
      "source": [
        "colors[3] = \"주황\"\n",
        "print(colors)\n",
        "colors[1:3] = '갈색'\n",
        "print(colors)\n",
        "colors[1:3] = ['갈색','고동']\n",
        "print(colors)\n",
        "colors[1:4] = '갈색' # 주의! 인덱스 개수가 다르면 대체가 안되고 없어짐.\n",
        "print(colors)"
      ],
      "metadata": {
        "colab": {
          "base_uri": "https://localhost:8080/"
        },
        "id": "BzFwCmvGZkrA",
        "outputId": "423f2c6a-52bf-44b4-8b82-a0ebc89fcf38"
      },
      "execution_count": 27,
      "outputs": [
        {
          "output_type": "stream",
          "name": "stdout",
          "text": [
            "['빨강', '갈색', '고동', '주황', '분홍', '파랑', '노랑', '검정', '보라']\n",
            "['빨강', '갈', '색', '주황', '분홍', '파랑', '노랑', '검정', '보라']\n",
            "['빨강', '갈색', '고동', '주황', '분홍', '파랑', '노랑', '검정', '보라']\n",
            "['빨강', '갈', '색', '분홍', '파랑', '노랑', '검정', '보라']\n"
          ]
        }
      ]
    },
    {
      "cell_type": "markdown",
      "source": [
        "### 리스트 요소 삭제"
      ],
      "metadata": {
        "id": "GMBrXySNbaPQ"
      }
    },
    {
      "cell_type": "code",
      "source": [
        "colors = ['빨강','초록','파랑','노랑','검정','노랑']\n",
        "# 맨 뒤에 있는 것 삭제(꺼내기)\n",
        "colors.pop()\n",
        "print(colors)\n",
        "\n",
        "# 요소값과 일치하는 것 삭제\n",
        "colors.remove('노랑')\n",
        "print(colors)\n",
        "\n",
        "# 전체 요소 삭제\n",
        "colors.clear()\n",
        "print(colors)"
      ],
      "metadata": {
        "colab": {
          "base_uri": "https://localhost:8080/"
        },
        "id": "VBdUN6nubcnI",
        "outputId": "6a3fd568-f264-4f17-8205-9aec6ae0b878"
      },
      "execution_count": 29,
      "outputs": [
        {
          "output_type": "stream",
          "name": "stdout",
          "text": [
            "['빨강', '초록', '파랑', '노랑', '검정']\n",
            "['빨강', '초록', '파랑', '검정']\n"
          ]
        }
      ]
    },
    {
      "cell_type": "markdown",
      "source": [
        "### 리스트 자체 삭제"
      ],
      "metadata": {
        "id": "sWIFDAjjcs5X"
      }
    },
    {
      "cell_type": "code",
      "source": [
        "del(colers)\n",
        "print(colors)"
      ],
      "metadata": {
        "colab": {
          "base_uri": "https://localhost:8080/",
          "height": 166
        },
        "id": "9FSawtzycGVB",
        "outputId": "60d7efd7-e100-45df-885f-af1b5f3bd967"
      },
      "execution_count": 31,
      "outputs": [
        {
          "output_type": "error",
          "ename": "NameError",
          "evalue": "name 'colers' is not defined",
          "traceback": [
            "\u001b[0;31m---------------------------------------------------------------------------\u001b[0m",
            "\u001b[0;31mNameError\u001b[0m                                 Traceback (most recent call last)",
            "\u001b[0;32m<ipython-input-31-56a9078f2d9a>\u001b[0m in \u001b[0;36m<cell line: 1>\u001b[0;34m()\u001b[0m\n\u001b[0;32m----> 1\u001b[0;31m \u001b[0;32mdel\u001b[0m\u001b[0;34m(\u001b[0m\u001b[0mcolers\u001b[0m\u001b[0;34m)\u001b[0m\u001b[0;34m\u001b[0m\u001b[0;34m\u001b[0m\u001b[0m\n\u001b[0m\u001b[1;32m      2\u001b[0m \u001b[0mprint\u001b[0m\u001b[0;34m(\u001b[0m\u001b[0mcolors\u001b[0m\u001b[0;34m)\u001b[0m\u001b[0;34m\u001b[0m\u001b[0;34m\u001b[0m\u001b[0m\n",
            "\u001b[0;31mNameError\u001b[0m: name 'colers' is not defined"
          ]
        }
      ]
    },
    {
      "cell_type": "markdown",
      "source": [
        "### 2차원 / 3차원... 리스트 요소 접근"
      ],
      "metadata": {
        "id": "OPAQ3b8mc5OV"
      }
    },
    {
      "cell_type": "code",
      "source": [
        "animals = ['사자','호랑이','곰',\n",
        "          ['고양이','강아지',['돌고래','범고래'],'햄스터']\n",
        "          ]\n",
        "\n",
        "print(animals)\n",
        "print(animals[1])\n",
        "print(animals[3])\n",
        "print(animals[3][1])\n",
        "print(animals[3][2][1])\n",
        "print(len(animals))"
      ],
      "metadata": {
        "colab": {
          "base_uri": "https://localhost:8080/"
        },
        "id": "3f7wKd2sc-bH",
        "outputId": "67b1d8ce-7e26-41f0-ce45-3a5ab6934cac"
      },
      "execution_count": 34,
      "outputs": [
        {
          "output_type": "stream",
          "name": "stdout",
          "text": [
            "['사자', '호랑이', '곰', ['고양이', '강아지', ['돌고래', '범고래'], '햄스터']]\n",
            "호랑이\n",
            "['고양이', '강아지', ['돌고래', '범고래'], '햄스터']\n",
            "강아지\n",
            "범고래\n",
            "4\n"
          ]
        }
      ]
    },
    {
      "cell_type": "markdown",
      "source": [
        "### 리스트 길이(요소의 개수)"
      ],
      "metadata": {
        "id": "I8n-ukCffYif"
      }
    },
    {
      "cell_type": "code",
      "source": [
        "print(animals)\n",
        "print(len(animals))\n",
        "print(len(animals[3]))\n",
        "print(len(animals[3][2]))"
      ],
      "metadata": {
        "colab": {
          "base_uri": "https://localhost:8080/"
        },
        "id": "1eFvpmBCfcAO",
        "outputId": "2419750c-0770-4cb4-9013-43a8b4a2b7d9"
      },
      "execution_count": 36,
      "outputs": [
        {
          "output_type": "stream",
          "name": "stdout",
          "text": [
            "['사자', '호랑이', '곰', ['고양이', '강아지', ['돌고래', '범고래'], '햄스터']]\n",
            "4\n",
            "4\n",
            "2\n"
          ]
        }
      ]
    },
    {
      "cell_type": "markdown",
      "source": [
        "### 리스트 함수"
      ],
      "metadata": {
        "id": "AJnZRB-tgDcm"
      }
    },
    {
      "cell_type": "code",
      "source": [
        "colors = ['빨강','초록','파랑','노랑','검정','노랑']\n",
        "\n",
        "# 리스트 요소 정렬\n",
        "colors.sort()  # 순차 정렬\n",
        "print(colors)\n",
        "\n",
        "colors.reverse()  # 역순 정렬\n",
        "print(colors)\n",
        "\n",
        "# 리스트의 특정 요소 위치 찾기\n",
        "print( colors.index('빨강') )\n",
        "print( colors.index('노랑') ) # 여러 개 있을 경우 맨 앞의 인덱스 나타내기\n",
        "\n",
        "# 요소 값 개수세기\n",
        "print(f\"요소 값 개수세기 : {colors.count('노랑')}\")\n",
        "\n",
        "# 리스트 정렬해서 새로운 이름을 저장해서 사용\n",
        "new = sorted(colors)\n",
        "print(f\"새 리스트 만들기 : {new}\")"
      ],
      "metadata": {
        "colab": {
          "base_uri": "https://localhost:8080/"
        },
        "id": "9-mSzWy-gHFO",
        "outputId": "6877adda-0181-4421-ad15-57b4dc322dbc"
      },
      "execution_count": 45,
      "outputs": [
        {
          "output_type": "stream",
          "name": "stdout",
          "text": [
            "['검정', '노랑', '노랑', '빨강', '초록', '파랑']\n",
            "['파랑', '초록', '빨강', '노랑', '노랑', '검정']\n",
            "2\n",
            "3\n",
            "요소 값 개수세기 : 2\n",
            "새 리스트 만들기 : ['검정', '노랑', '노랑', '빨강', '초록', '파랑']\n"
          ]
        }
      ]
    },
    {
      "cell_type": "code",
      "source": [
        "colors = ['빨강','초록','파랑','노랑','검정','노랑']\n",
        "newColors = ['red','green','blue']\n",
        "print(colors)\n",
        "print(newColors)\n",
        "colors.extend(newColors)\n",
        "print(colors)\n",
        "\n",
        "\n",
        "colors = ['빨강','초록','파랑','노랑','검정','노랑']\n",
        "newColors = ['red','green','blue']\n",
        "\n",
        "colors += newColors\n",
        "print(colors)"
      ],
      "metadata": {
        "colab": {
          "base_uri": "https://localhost:8080/"
        },
        "id": "u0b7T0TdiB0P",
        "outputId": "1b9d48de-9c9b-44f5-f2c4-b17abaf1eb51"
      },
      "execution_count": 49,
      "outputs": [
        {
          "output_type": "stream",
          "name": "stdout",
          "text": [
            "['빨강', '초록', '파랑', '노랑', '검정', '노랑']\n",
            "['red', 'green', 'blue']\n",
            "['빨강', '초록', '파랑', '노랑', '검정', '노랑', 'red', 'green', 'blue']\n",
            "['빨강', '초록', '파랑', '노랑', '검정', '노랑', 'red', 'green', 'blue']\n"
          ]
        }
      ]
    },
    {
      "cell_type": "code",
      "source": [],
      "metadata": {
        "id": "yFDymqXDjOjg"
      },
      "execution_count": null,
      "outputs": []
    }
  ]
}