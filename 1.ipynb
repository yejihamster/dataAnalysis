{
  "nbformat": 4,
  "nbformat_minor": 0,
  "metadata": {
    "colab": {
      "provenance": [],
      "toc_visible": true,
      "authorship_tag": "ABX9TyNcOw2G/hGe3RAqTYUNhEmd",
      "include_colab_link": true
    },
    "kernelspec": {
      "name": "python3",
      "display_name": "Python 3"
    },
    "language_info": {
      "name": "python"
    }
  },
  "cells": [
    {
      "cell_type": "markdown",
      "metadata": {
        "id": "view-in-github",
        "colab_type": "text"
      },
      "source": [
        "<a href=\"https://colab.research.google.com/github/yejihamster/dataAnalysis/blob/main/1.ipynb\" target=\"_parent\"><img src=\"https://colab.research.google.com/assets/colab-badge.svg\" alt=\"Open In Colab\"/></a>"
      ]
    },
    {
      "cell_type": "code",
      "execution_count": null,
      "metadata": {
        "id": "_xEAuecJpwDf"
      },
      "outputs": [],
      "source": []
    },
    {
      "cell_type": "markdown",
      "source": [
        "# 1. 파이썬 자료형과 연산\n"
      ],
      "metadata": {
        "id": "bSVlyfNeqOPg"
      }
    },
    {
      "cell_type": "markdown",
      "source": [],
      "metadata": {
        "id": "vpcuGnB1qbXQ"
      }
    },
    {
      "cell_type": "code",
      "source": [
        "a =10\n",
        "b = '파이썬'\n",
        "print( a, b )"
      ],
      "metadata": {
        "colab": {
          "base_uri": "https://localhost:8080/"
        },
        "id": "omBCjQKyw0cn",
        "outputId": "c45c3bb2-70ef-4506-c3d3-b7349d6fb37b"
      },
      "execution_count": null,
      "outputs": [
        {
          "output_type": "stream",
          "name": "stdout",
          "text": [
            "10 파이썬\n"
          ]
        }
      ]
    },
    {
      "cell_type": "markdown",
      "source": [
        "### # 오류"
      ],
      "metadata": {
        "id": "CHTzBJYFy3pu"
      }
    },
    {
      "cell_type": "code",
      "source": [
        "a =10\n",
        "b = '파이썬'\n",
        "print( a, b )"
      ],
      "metadata": {
        "id": "zLQULf4azDCO"
      },
      "execution_count": null,
      "outputs": []
    },
    {
      "cell_type": "markdown",
      "source": [
        "### # 1. 파이썬 버전 출력"
      ],
      "metadata": {
        "id": "aCeDp6q5zKKq"
      }
    },
    {
      "cell_type": "code",
      "source": [
        "\n",
        "!python -V"
      ],
      "metadata": {
        "colab": {
          "base_uri": "https://localhost:8080/"
        },
        "id": "WdHphUp8zQfm",
        "outputId": "d9b84898-ce24-4921-94ed-7783039993b3"
      },
      "execution_count": null,
      "outputs": [
        {
          "output_type": "stream",
          "name": "stdout",
          "text": [
            "Python 3.10.12\n"
          ]
        }
      ]
    },
    {
      "cell_type": "code",
      "source": [
        "import sys\n",
        "print(\"____\",sys.version)\n",
        "sys.version"
      ],
      "metadata": {
        "colab": {
          "base_uri": "https://localhost:8080/",
          "height": 54
        },
        "id": "iLFYWYQazVDP",
        "outputId": "c919e076-9130-4e60-9495-130c0cdb6705"
      },
      "execution_count": null,
      "outputs": [
        {
          "output_type": "stream",
          "name": "stdout",
          "text": [
            "____ 3.10.12 (main, Nov 20 2023, 15:14:05) [GCC 11.4.0]\n"
          ]
        },
        {
          "output_type": "execute_result",
          "data": {
            "text/plain": [
              "'3.10.12 (main, Nov 20 2023, 15:14:05) [GCC 11.4.0]'"
            ],
            "application/vnd.google.colaboratory.intrinsic+json": {
              "type": "string"
            }
          },
          "metadata": {},
          "execution_count": 8
        }
      ]
    },
    {
      "cell_type": "code",
      "source": [
        "# 2. 파이선 설치 위치\n",
        "import sys\n",
        "print(sys.executable)"
      ],
      "metadata": {
        "colab": {
          "base_uri": "https://localhost:8080/"
        },
        "id": "DXSadW4Ezlnl",
        "outputId": "db732160-4ad3-4d35-bc2c-fc5b44edc3b4"
      },
      "execution_count": null,
      "outputs": [
        {
          "output_type": "stream",
          "name": "stdout",
          "text": [
            "/usr/bin/python3\n"
          ]
        }
      ]
    },
    {
      "cell_type": "markdown",
      "source": [],
      "metadata": {
        "id": "gOeFESZY0cmn"
      }
    },
    {
      "cell_type": "code",
      "source": [
        "# 물리적 폴더 위치\n",
        "import os\n",
        "os.getcwd()"
      ],
      "metadata": {
        "colab": {
          "base_uri": "https://localhost:8080/",
          "height": 35
        },
        "id": "kRO8USpf0duk",
        "outputId": "4dc7387b-d4f2-4c63-89aa-8f572d5e3f67"
      },
      "execution_count": null,
      "outputs": [
        {
          "output_type": "execute_result",
          "data": {
            "text/plain": [
              "'/content'"
            ],
            "application/vnd.google.colaboratory.intrinsic+json": {
              "type": "string"
            }
          },
          "metadata": {},
          "execution_count": 11
        }
      ]
    },
    {
      "cell_type": "code",
      "source": [
        "#문제 1\n",
        "(10 + 3) *4\n",
        "#문제 2\n",
        "15*130\n",
        "#문제 3\n",
        "num = int(input(\"정수를 입력하십시오.\"))\n",
        "\n",
        "if (num % 2) == 0 :\n",
        "    print(\"짝수입니다.\")\n",
        "else:\n",
        "    print(\"홀수입니다.\")\n",
        "#문제 4\n",
        "(2**3)*(5**4)*(3**4)\n"
      ],
      "metadata": {
        "colab": {
          "base_uri": "https://localhost:8080/"
        },
        "id": "5lkLqWiN2B5l",
        "outputId": "4160efd0-18ca-4b33-ac06-f6fd3516fa86"
      },
      "execution_count": null,
      "outputs": [
        {
          "output_type": "stream",
          "name": "stdout",
          "text": [
            "정수를 입력하십시오.31\n",
            "홀수입니다.\n"
          ]
        },
        {
          "output_type": "execute_result",
          "data": {
            "text/plain": [
              "405000"
            ]
          },
          "metadata": {},
          "execution_count": 29
        }
      ]
    },
    {
      "cell_type": "code",
      "source": [
        "# 파이썬 자료형 확인\n",
        "\n",
        "print(type(123))\n",
        "print(type(3.14))\n",
        "print(type(\"123\"))\n",
        "print(type( [123] ) )\n",
        "print(type((123,)))\n",
        "print(type({'123':123}))\n",
        "print(type({123}))\n",
        "print(type(True))"
      ],
      "metadata": {
        "colab": {
          "base_uri": "https://localhost:8080/"
        },
        "id": "wwCFiMsA4XRU",
        "outputId": "e2790152-18e9-4f71-c34a-efdd4a8867cd"
      },
      "execution_count": null,
      "outputs": [
        {
          "output_type": "stream",
          "name": "stdout",
          "text": [
            "<class 'int'>\n",
            "<class 'float'>\n",
            "<class 'str'>\n",
            "<class 'list'>\n",
            "<class 'tuple'>\n",
            "<class 'dict'>\n",
            "<class 'set'>\n",
            "<class 'bool'>\n"
          ]
        }
      ]
    },
    {
      "cell_type": "markdown",
      "source": [
        "# # 문자열 데이터를 숫자(정수)로 변환하기\n",
        "# a = input('키보드로 숫자를 입력해 주세요: ')\n",
        "# print(type(a))\n",
        "\n",
        "# a=int(a)\n",
        "# print(type(a))"
      ],
      "metadata": {
        "id": "x1pWdyiY9yi7"
      }
    },
    {
      "cell_type": "code",
      "source": [
        "#문자열 포맷팅\n",
        "a = input('키보드로 입력해 주세요:')\n",
        "print('변수 a의 값은', a,'입니다')\n",
        "print('변수 a의 값은 %s 입니다.' %a)\n",
        "print(f'변수 a의 값은 {a} 입니다.')"
      ],
      "metadata": {
        "id": "YkQSYlPrC_Cx",
        "colab": {
          "base_uri": "https://localhost:8080/"
        },
        "outputId": "3ebb1679-c9d4-449c-e610-e34002e499a9"
      },
      "execution_count": null,
      "outputs": [
        {
          "output_type": "stream",
          "name": "stdout",
          "text": [
            "키보드로 입력해 주세요:12\n",
            "변수 a의 값은 12 입니다\n",
            "변수 a의 값은 12 입니다.\n",
            "변수 a의 값은 12 입니다.\n"
          ]
        }
      ]
    },
    {
      "cell_type": "code",
      "source": [
        "a = int(input(\"첫번째 숫자를 입력하세요:\"))\n",
        "b = int(input(\"두번째 숫자를 입력하세요:\"))\n",
        "print(f'덧셈: {a}+{b} = {a+b:3}')\n",
        "print(f'뺄셈: {a}-{b} = {a-b:3}')"
      ],
      "metadata": {
        "colab": {
          "base_uri": "https://localhost:8080/"
        },
        "id": "38onnW_VGNdt",
        "outputId": "1810cce7-e9bd-4b1f-e980-93508e7f3366"
      },
      "execution_count": null,
      "outputs": [
        {
          "output_type": "stream",
          "name": "stdout",
          "text": [
            "첫번째 숫자를 입력하세요:1\n",
            "두번째 숫자를 입력하세요:21\n",
            "덧셈: 1+21 =  22\n",
            "뺄셈: 1-21 = -20\n"
          ]
        }
      ]
    },
    {
      "cell_type": "code",
      "source": [
        "velocity = input('속력을 입력해 주세요(km/h):')\n",
        "distance = input('거리를 입력해 주세요(km) : ')\n",
        "print(\"-\"*30)\n",
        "print(f'속력 : {float(velocity)}km/h')\n",
        "print(f'거리 : {float(distance)}km')\n",
        "print(f'시간 : {float(distance}/float(velocity):.1f }h')"
      ],
      "metadata": {
        "colab": {
          "base_uri": "https://localhost:8080/",
          "height": 276
        },
        "id": "28f7W75oHnly",
        "outputId": "ae90d5cd-4de6-4716-bdfd-343d9fe44cf7"
      },
      "execution_count": null,
      "outputs": [
        {
          "output_type": "stream",
          "name": "stdout",
          "text": [
            "속력을 입력해 주세요(km/h):100\n",
            "거리를 입력해 주세요(km) : 340\n",
            "------------------------------\n",
            "속력 : 100.0km/h\n",
            "거리 : 340.0km\n"
          ]
        },
        {
          "output_type": "error",
          "ename": "TypeError",
          "evalue": "unsupported operand type(s) for /: 'str' and 'str'",
          "traceback": [
            "\u001b[0;31m---------------------------------------------------------------------------\u001b[0m",
            "\u001b[0;31mTypeError\u001b[0m                                 Traceback (most recent call last)",
            "\u001b[0;32m<ipython-input-70-3803e89bfdba>\u001b[0m in \u001b[0;36m<cell line: 6>\u001b[0;34m()\u001b[0m\n\u001b[1;32m      4\u001b[0m \u001b[0mprint\u001b[0m\u001b[0;34m(\u001b[0m\u001b[0;34mf'속력 : {float(velocity)}km/h'\u001b[0m\u001b[0;34m)\u001b[0m\u001b[0;34m\u001b[0m\u001b[0;34m\u001b[0m\u001b[0m\n\u001b[1;32m      5\u001b[0m \u001b[0mprint\u001b[0m\u001b[0;34m(\u001b[0m\u001b[0;34mf'거리 : {float(distance)}km'\u001b[0m\u001b[0;34m)\u001b[0m\u001b[0;34m\u001b[0m\u001b[0;34m\u001b[0m\u001b[0m\n\u001b[0;32m----> 6\u001b[0;31m \u001b[0mprint\u001b[0m\u001b[0;34m(\u001b[0m\u001b[0;34mf'시간 : {float(distance/velocity)}h'\u001b[0m\u001b[0;34m)\u001b[0m\u001b[0;34m\u001b[0m\u001b[0;34m\u001b[0m\u001b[0m\n\u001b[0m",
            "\u001b[0;31mTypeError\u001b[0m: unsupported operand type(s) for /: 'str' and 'str'"
          ]
        }
      ]
    },
    {
      "cell_type": "code",
      "source": [
        "import math\n",
        "r=4\n",
        "print(f'원의 넓이: {round(math.pi * math.pow(r,2),4)}')\n",
        "print(f'계산결과: {rount}')\n",
        "\n"
      ],
      "metadata": {
        "colab": {
          "base_uri": "https://localhost:8080/"
        },
        "id": "vGj7WO-wMez1",
        "outputId": "7d1bd89b-3783-42a7-dbf6-67d10e109eb6"
      },
      "execution_count": null,
      "outputs": [
        {
          "output_type": "stream",
          "name": "stdout",
          "text": [
            "원의 넓이: 50.2655\n"
          ]
        }
      ]
    },
    {
      "cell_type": "code",
      "source": [
        "a=input('정수를 입력하세요(1~9):')\n",
        "b=a+a\n",
        "c=a+a+a\n",
        "a1=int(a)\n",
        "b1=int(b)\n",
        "c1=int(c)\n",
        "print(f'{a1+b1+c1}')"
      ],
      "metadata": {
        "id": "L2hpdCDGQasH",
        "colab": {
          "base_uri": "https://localhost:8080/"
        },
        "outputId": "14392b72-50fd-4576-861e-460320786274"
      },
      "execution_count": null,
      "outputs": [
        {
          "output_type": "stream",
          "name": "stdout",
          "text": [
            "정수를 입력하세요(1~9):7\n",
            "861\n"
          ]
        }
      ]
    }
  ]
}