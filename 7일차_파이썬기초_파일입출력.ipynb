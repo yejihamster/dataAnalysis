{
  "nbformat": 4,
  "nbformat_minor": 0,
  "metadata": {
    "colab": {
      "provenance": [],
      "authorship_tag": "ABX9TyPl1++3J6lRodyvmeVIllX+",
      "include_colab_link": true
    },
    "kernelspec": {
      "name": "python3",
      "display_name": "Python 3"
    },
    "language_info": {
      "name": "python"
    }
  },
  "cells": [
    {
      "cell_type": "markdown",
      "metadata": {
        "id": "view-in-github",
        "colab_type": "text"
      },
      "source": [
        "<a href=\"https://colab.research.google.com/github/yejihamster/dataAnalysis/blob/main/7%EC%9D%BC%EC%B0%A8_%ED%8C%8C%EC%9D%B4%EC%8D%AC%EA%B8%B0%EC%B4%88_%ED%8C%8C%EC%9D%BC%EC%9E%85%EC%B6%9C%EB%A0%A5.ipynb\" target=\"_parent\"><img src=\"https://colab.research.google.com/assets/colab-badge.svg\" alt=\"Open In Colab\"/></a>"
      ]
    },
    {
      "cell_type": "markdown",
      "source": [
        "# 6. 파일 입출력(TXT)"
      ],
      "metadata": {
        "id": "3p2C_94imMku"
      }
    },
    {
      "cell_type": "markdown",
      "source": [
        "## 6-1. TXT"
      ],
      "metadata": {
        "id": "SV8_xn_SmSk0"
      }
    },
    {
      "cell_type": "markdown",
      "source": [
        "### 파일 입출력"
      ],
      "metadata": {
        "id": "qY_JFfkWmg0g"
      }
    },
    {
      "cell_type": "code",
      "execution_count": 6,
      "metadata": {
        "id": "450Xk-hlkWbY"
      },
      "outputs": [],
      "source": [
        "# 파일에 쓰기\n",
        "f = open('./새파일.txt', 'w')\n",
        "for i in range(1,11):\n",
        "    f.write(f\"{i:2>}번째 줄입니다.\\n\")\n",
        "f.close()"
      ]
    },
    {
      "cell_type": "markdown",
      "source": [
        "### 더블클릭 또는 Enter 키를 눌러 수정"
      ],
      "metadata": {
        "id": "vJo9JVQsoH19"
      }
    },
    {
      "cell_type": "markdown",
      "source": [
        "- readline()\n",
        "- readlines()\n",
        "- read()"
      ],
      "metadata": {
        "id": "cGOa9I2Woo2F"
      }
    },
    {
      "cell_type": "code",
      "source": [
        "# readline()\n",
        "f = open('./새파일.txt','r')\n",
        "line = f.readline()\n",
        "print(line)\n",
        "print('-'*30)\n",
        "\n",
        "while True:\n",
        "    line = f.readline()\n",
        "    if not line:\n",
        "        break\n",
        "    print(line.strip()) # 공백제거\n",
        "f.close()"
      ],
      "metadata": {
        "colab": {
          "base_uri": "https://localhost:8080/"
        },
        "id": "PD5PL0aWoTf5",
        "outputId": "1f34bdd2-5554-4d14-aa98-79e1872d6dbb"
      },
      "execution_count": 13,
      "outputs": [
        {
          "output_type": "stream",
          "name": "stdout",
          "text": [
            "1번째 줄입니다.\n",
            "\n",
            "------------------------------\n",
            "2번째 줄입니다.\n",
            "3번째 줄입니다.\n",
            "4번째 줄입니다.\n",
            "5번째 줄입니다.\n",
            "6번째 줄입니다.\n",
            "7번째 줄입니다.\n",
            "8번째 줄입니다.\n",
            "9번째 줄입니다.\n",
            "10번째 줄입니다.\n"
          ]
        }
      ]
    },
    {
      "cell_type": "code",
      "source": [
        "# readlines() : 결과가 리스트로 표현됨\n",
        "f= open('./새파일.txt','r')\n",
        "for line in f.readlines():\n",
        "    print(line.strip())\n",
        "f.close()"
      ],
      "metadata": {
        "colab": {
          "base_uri": "https://localhost:8080/"
        },
        "id": "xJaqW8zMpybc",
        "outputId": "f076ae24-d92a-4dff-d92c-c98e46c01c4a"
      },
      "execution_count": 18,
      "outputs": [
        {
          "output_type": "stream",
          "name": "stdout",
          "text": [
            "1번째 줄입니다.\n",
            "2번째 줄입니다.\n",
            "3번째 줄입니다.\n",
            "4번째 줄입니다.\n",
            "5번째 줄입니다.\n",
            "6번째 줄입니다.\n",
            "7번째 줄입니다.\n",
            "8번째 줄입니다.\n",
            "9번째 줄입니다.\n",
            "10번째 줄입니다.\n"
          ]
        }
      ]
    },
    {
      "cell_type": "code",
      "source": [
        "# read() : 결과는 문자열로 반환\n",
        "f = open('./새파일.txt','r')\n",
        "line = f.read()\n",
        "print(line)\n",
        "f.close()"
      ],
      "metadata": {
        "colab": {
          "base_uri": "https://localhost:8080/"
        },
        "id": "Wmxk4deKqbH0",
        "outputId": "22f0e9aa-b051-4fe1-cd2a-ff32c8392f8b"
      },
      "execution_count": 19,
      "outputs": [
        {
          "output_type": "stream",
          "name": "stdout",
          "text": [
            "1번째 줄입니다.\n",
            "2번째 줄입니다.\n",
            "3번째 줄입니다.\n",
            "4번째 줄입니다.\n",
            "5번째 줄입니다.\n",
            "6번째 줄입니다.\n",
            "7번째 줄입니다.\n",
            "8번째 줄입니다.\n",
            "9번째 줄입니다.\n",
            "10번째 줄입니다.\n",
            "\n"
          ]
        }
      ]
    },
    {
      "cell_type": "markdown",
      "source": [
        "### with 문\n",
        "with문을 벗어나면 자동으로 파일 객체를 닫는다."
      ],
      "metadata": {
        "id": "3dvpS5GlrpgL"
      }
    },
    {
      "cell_type": "code",
      "source": [
        "# read()\n",
        "# f = open('./새파일.txt','r')\n",
        "# line = f.read()\n",
        "# print(line)\n",
        "# f.close()\n",
        "\n",
        "with open('./새파일.txt','r') as f:\n",
        "    data = f.read()\n",
        "    print(type(data))\n",
        "    data.replace('줄','사람')\n",
        "    print(data)"
      ],
      "metadata": {
        "colab": {
          "base_uri": "https://localhost:8080/"
        },
        "id": "yKxXRCver2Mk",
        "outputId": "8081e1fa-2bf5-445b-e96e-4bc3235a7b14"
      },
      "execution_count": 30,
      "outputs": [
        {
          "output_type": "stream",
          "name": "stdout",
          "text": [
            "<class 'str'>\n",
            "1번째 줄입니다.\n",
            "2번째 줄입니다.\n",
            "3번째 줄입니다.\n",
            "4번째 줄입니다.\n",
            "5번째 줄입니다.\n",
            "6번째 줄입니다.\n",
            "7번째 줄입니다.\n",
            "8번째 줄입니다.\n",
            "9번째 줄입니다.\n",
            "10번째 줄입니다.\n",
            "\n"
          ]
        }
      ]
    },
    {
      "cell_type": "markdown",
      "source": [
        "### os 모듈 : 디렉토리 & 파일 관련 함수"
      ],
      "metadata": {
        "id": "g2nXbh58s3w7"
      }
    },
    {
      "cell_type": "code",
      "source": [
        "import os\n",
        "\n",
        "print(f\"현재 위치: {os.getcwd()}\")\n",
        "print(f\"현재 위치 파일/폴더 목록 : {os.listdir()}\")\n",
        "# os.chdir('../')\n",
        "# print(f\"현재 위치 파일/폴더 목록 : {os.listdir()}\")"
      ],
      "metadata": {
        "colab": {
          "base_uri": "https://localhost:8080/"
        },
        "id": "d59T3g5Ss8ry",
        "outputId": "4aafa82f-0d61-4c66-ac8f-1228a968eecd"
      },
      "execution_count": 35,
      "outputs": [
        {
          "output_type": "stream",
          "name": "stdout",
          "text": [
            "현재 위치: /content\n",
            "현재 위치 파일/폴더 목록 : ['.config', '새파일.txt', 'sample_data']\n",
            "현재 위치 파일/폴더 목록 : ['srv', 'sys', 'mnt', 'dev', 'proc', 'lib32', 'lib64', 'home', 'libx32', 'var', 'root', 'run', 'sbin', 'tmp', 'usr', 'boot', 'bin', 'lib', 'media', 'etc', 'opt', 'content', 'kaggle', '.dockerenv', 'datalab', 'tools', 'NGC-DL-CONTAINER-LICENSE', 'cuda-keyring_1.0-1_all.deb']\n"
          ]
        }
      ]
    },
    {
      "cell_type": "code",
      "source": [
        "os.chdir('/content')"
      ],
      "metadata": {
        "id": "USQLTf_TuKYS"
      },
      "execution_count": 36,
      "outputs": []
    },
    {
      "cell_type": "markdown",
      "source": [
        "- os.remove() : 파일 삭제"
      ],
      "metadata": {
        "id": "K_Vhl4CvubVd"
      }
    },
    {
      "cell_type": "code",
      "source": [
        "import os\n",
        "file = '새파일.txt'\n",
        "if os.path.isfile(file):\n",
        "    os.remove(file)\n",
        "    print(f\"'{file}' 파일이 삭제되었습니다.\")\n",
        "else:\n",
        "    print(f\"'{file}'이 존재하지 않습니다.\")"
      ],
      "metadata": {
        "colab": {
          "base_uri": "https://localhost:8080/"
        },
        "id": "cL3kcounugST",
        "outputId": "e91b0419-8278-4721-ecc8-424bb78e6cce"
      },
      "execution_count": 38,
      "outputs": [
        {
          "output_type": "stream",
          "name": "stdout",
          "text": [
            "'새파일.txt'이 존재하지 않습니다.\n"
          ]
        }
      ]
    },
    {
      "cell_type": "code",
      "source": [
        "import random\n",
        "\n",
        "# 파일에 쓰기\n",
        "f = open('./sample.txt','w')\n",
        "for _ in range(10):\n",
        "\n",
        "    n = str(random.randint(1,100))\n",
        "    f.write(n + '\\n') # 문자열 사용 가능\n",
        "f.close()\n",
        "\n",
        "# 파일\n",
        "f = open('./sample.txt', 'r')\n",
        "data = f.read()\n",
        "print(data)\n",
        "f.close()\n",
        "\n",
        "\n",
        "# with open('/data/sample.txt','w') as file:\n",
        "#     for _ in range(10):\n",
        "#         random_number = random.randint(1, 100)\n",
        "#         file.write(str(random_number) + \"\\n\")\n"
      ],
      "metadata": {
        "colab": {
          "base_uri": "https://localhost:8080/"
        },
        "id": "zNclJuEHv52y",
        "outputId": "67609526-1f58-4afb-8888-c7f1b30ee8d6"
      },
      "execution_count": 42,
      "outputs": [
        {
          "output_type": "stream",
          "name": "stdout",
          "text": [
            "85\n",
            "54\n",
            "62\n",
            "89\n",
            "43\n",
            "30\n",
            "25\n",
            "10\n",
            "41\n",
            "7\n",
            "\n"
          ]
        }
      ]
    },
    {
      "cell_type": "code",
      "source": [
        "# 파일 읽어서 총합&평균 출력하기\n",
        "with open('./sample.txt','r') as f:\n",
        "    data = [ int(line) for line in f.readlines()]\n",
        "    hap = sum(data)\n",
        "    avg = hap / len(data)\n",
        "    content = f\"{data}\\n총합은 {hap}입니다. \\n평균은 {avg}입니다.\"\n",
        "    print(content)\n",
        "\n",
        "with open('./result.txt','w') as f:\n",
        "    f.write(content)\n"
      ],
      "metadata": {
        "colab": {
          "base_uri": "https://localhost:8080/"
        },
        "id": "hreo-aXLyyXD",
        "outputId": "ce74d6d7-3f9a-4182-c663-bc466259dd2c"
      },
      "execution_count": 46,
      "outputs": [
        {
          "output_type": "stream",
          "name": "stdout",
          "text": [
            "[85, 54, 62, 89, 43, 30, 25, 10, 41, 7]\n",
            "총합은 446입니다. \n",
            "평균은 44.6입니다.\n"
          ]
        }
      ]
    }
  ]
}