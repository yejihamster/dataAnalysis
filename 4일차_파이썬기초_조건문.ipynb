{
  "nbformat": 4,
  "nbformat_minor": 0,
  "metadata": {
    "colab": {
      "provenance": [],
      "authorship_tag": "ABX9TyMfXZ0g50LMKDQltsOj6TNs",
      "include_colab_link": true
    },
    "kernelspec": {
      "name": "python3",
      "display_name": "Python 3"
    },
    "language_info": {
      "name": "python"
    }
  },
  "cells": [
    {
      "cell_type": "markdown",
      "metadata": {
        "id": "view-in-github",
        "colab_type": "text"
      },
      "source": [
        "<a href=\"https://colab.research.google.com/github/yejihamster/dataAnalysis/blob/main/4%EC%9D%BC%EC%B0%A8_%ED%8C%8C%EC%9D%B4%EC%8D%AC%EA%B8%B0%EC%B4%88_%EC%A1%B0%EA%B1%B4%EB%AC%B8.ipynb\" target=\"_parent\"><img src=\"https://colab.research.google.com/assets/colab-badge.svg\" alt=\"Open In Colab\"/></a>"
      ]
    },
    {
      "cell_type": "markdown",
      "source": [
        "# 4. 파이썬 조건문"
      ],
      "metadata": {
        "id": "9PG-3CnRcfc7"
      }
    },
    {
      "cell_type": "markdown",
      "source": [
        "## 1. if 조건문(if만 사용)"
      ],
      "metadata": {
        "id": "KymRaICLcl7B"
      }
    },
    {
      "cell_type": "code",
      "source": [
        "a = 200\n",
        "if a < 100:  # 만약 a가 100보다 작으면\n",
        "  print(f\"{a}는 100보다 작군요\")\n"
      ],
      "metadata": {
        "id": "S5sTDB7udAWe"
      },
      "execution_count": 2,
      "outputs": []
    },
    {
      "cell_type": "markdown",
      "source": [
        "## 2. if-else 조건문"
      ],
      "metadata": {
        "id": "ZWbRcP_xct2f"
      }
    },
    {
      "cell_type": "code",
      "source": [
        "a = int(input(\"숫자를 입력하세요: \"))\n",
        "if a < 100:  # 만약 a가 100보다 작으면(True)\n",
        "  print(f\"{a}는 100보다 작군요\")\n",
        "else:  # 그렇지 않다면 (False)\n",
        "  print(f\"{a}는 100보다 작지 않군요\")\n"
      ],
      "metadata": {
        "colab": {
          "base_uri": "https://localhost:8080/"
        },
        "id": "4zXV94IudoZ3",
        "outputId": "3092f219-7429-4896-c170-d6f363311a27"
      },
      "execution_count": 5,
      "outputs": [
        {
          "output_type": "stream",
          "name": "stdout",
          "text": [
            "숫자를 입력하세요: 10\n",
            "10는 100보다 작군요\n"
          ]
        }
      ]
    },
    {
      "cell_type": "markdown",
      "source": [
        "## 3. 중첩 if 조건문(if문 안에  if문)"
      ],
      "metadata": {
        "id": "PFLmj4A7cyjH"
      }
    },
    {
      "cell_type": "code",
      "execution_count": 7,
      "metadata": {
        "colab": {
          "base_uri": "https://localhost:8080/"
        },
        "id": "doOxy7l-TssH",
        "outputId": "08534c20-668b-493a-8f6e-20a0aac8ae51"
      },
      "outputs": [
        {
          "output_type": "stream",
          "name": "stdout",
          "text": [
            "숫자를 입력하세요: 120\n",
            "120는 100보다 작지 않군요\n"
          ]
        }
      ],
      "source": [
        "a = int(input(\"숫자를 입력하세요: \"))\n",
        "if a < 100:\n",
        "    if a < 50:  # a 는 50보다 작은 케이스\n",
        "        print(f\"{a}는 50보다 작군요\")\n",
        "    else: # 50<=a<100\n",
        "        print(f\"{a}는 50과 100의 사이군요\")\n",
        "else:\n",
        "    if a==100:\n",
        "        print(f\"{a}는 100과 같군요\")\n",
        "    else:\n",
        "        print(f\"{a}는 100보다 작지 않군요\")"
      ]
    },
    {
      "cell_type": "code",
      "source": [
        "x = int(input('숫자를 입력해 주세요; '))\n",
        "if x % 2 == 0:\n",
        "    print(f\"{x}는 짝수군요\")\n",
        "else:\n",
        "    print(f\"{x}는 홀수군요\")"
      ],
      "metadata": {
        "colab": {
          "base_uri": "https://localhost:8080/"
        },
        "id": "OvtD6ZP_gFog",
        "outputId": "b7e0fa91-f2e1-440d-ad66-839f2c1cadba"
      },
      "execution_count": 11,
      "outputs": [
        {
          "output_type": "stream",
          "name": "stdout",
          "text": [
            "숫자를 입력해 주세요; 111\n",
            "111는 홀수군요\n"
          ]
        }
      ]
    },
    {
      "cell_type": "markdown",
      "source": [
        "### [실습문제] 가위/바위/보 게임"
      ],
      "metadata": {
        "id": "Xr1nBUgWiLbJ"
      }
    },
    {
      "cell_type": "code",
      "source": [
        "import random  # 난수 발생 모듈\n",
        "random.randint(1,10)  # 1~10 사이의 임의의 정수 선택\n",
        "computer = random.choice(['가위','바위','보'])\n",
        "my = input(\"가위/바위/보 중 하나 입력: \")\n",
        "print(f\"computer:{computer}, my: {my}\")"
      ],
      "metadata": {
        "colab": {
          "base_uri": "https://localhost:8080/"
        },
        "id": "iXivwGediPQR",
        "outputId": "13c43d17-39ca-435d-bc2d-43cad65c10d6"
      },
      "execution_count": 28,
      "outputs": [
        {
          "output_type": "stream",
          "name": "stdout",
          "text": [
            "가위/바위/보 중 하나 입력: 가위\n",
            "computer:보, my: 가위\n"
          ]
        }
      ]
    },
    {
      "cell_type": "code",
      "source": [
        "import random  # 난수 발생 모듈\n",
        "computer = random.choice(['가위','바위','보'])\n",
        "my = input(\"가위/바위/보 중 하나 입력: \")\n",
        "print(f\"computer:{computer}, my: {my}\")\n",
        "\n",
        "# 결과 판단하기\n",
        "if computer == my:\n",
        "    print(\"서로 비겼습니다.\")\n",
        "\n",
        "# 컴퓨터가 이긴 경우\n",
        "else:\n",
        "    if (computer ==\"가위\" and my ==\"보\") or \\\n",
        "    (computer ==\"바위\" and my ==\"가위\") or \\\n",
        "    (computer ==\"보\" and my ==\"바위\"):\n",
        "        print(\"컴퓨터가 이겼습니다.\")\n",
        "    else:\n",
        "        print(\"내가 이겼습니다.\")"
      ],
      "metadata": {
        "colab": {
          "base_uri": "https://localhost:8080/"
        },
        "id": "ruSn-uV-g2yn",
        "outputId": "2607bd27-f37c-46b7-a869-b276fe9cdf7e"
      },
      "execution_count": 37,
      "outputs": [
        {
          "output_type": "stream",
          "name": "stdout",
          "text": [
            "가위/바위/보 중 하나 입력: 가위\n",
            "computer:가위, my: 가위\n",
            "서로 비겼습니다.\n"
          ]
        }
      ]
    },
    {
      "cell_type": "code",
      "source": [
        "a = int(input('변a의 길이: '))\n",
        "b = int(input('변b의 길이: '))\n",
        "c = int(input('변c의 길이: '))\n",
        "print(\"_\" * 30)\n",
        "if a**2 + b**2 == c**2:\n",
        "    print(\"직각삼각형입니다\")\n",
        "else:\n",
        "    print(\"직각삼각형이 아닙니다.\")"
      ],
      "metadata": {
        "colab": {
          "base_uri": "https://localhost:8080/"
        },
        "id": "aDRNu23XpNEf",
        "outputId": "888db234-2041-4b62-a0bd-ca6ac910d059"
      },
      "execution_count": 49,
      "outputs": [
        {
          "output_type": "stream",
          "name": "stdout",
          "text": [
            "변a의 길이: 5\n",
            "변b의 길이: 6\n",
            "변c의 길이: 7\n",
            "______________________________\n",
            "직각삼각형이 아닙니다.\n"
          ]
        }
      ]
    },
    {
      "cell_type": "markdown",
      "source": [
        "## 4. 다중 조건문\n",
        "if ~ else ~ if --> if ~ elif ~"
      ],
      "metadata": {
        "id": "-1KJQWdDyIFG"
      }
    },
    {
      "cell_type": "code",
      "source": [
        "# 나이별 학생 구분하기\n",
        "age = int(input(\"나이를 입력하세요\"))\n",
        "if age < 8:\n",
        "    print(\"미취학 아동입니다.\")\n",
        "elif age < 14:\n",
        "    print(\"초등학생 입니다.\")\n",
        "elif age < 17:\n",
        "    print(\"중학생 입니다.\")\n",
        "elif age < 20:\n",
        "    print(\"고등학생 입니다.\")\n",
        "else:\n",
        "    print(\"성인입니다.\")"
      ],
      "metadata": {
        "colab": {
          "base_uri": "https://localhost:8080/"
        },
        "id": "3UdBVzjnyDjH",
        "outputId": "f91fd354-94b8-498a-bc1c-c650a9c87baa"
      },
      "execution_count": 52,
      "outputs": [
        {
          "output_type": "stream",
          "name": "stdout",
          "text": [
            "나이를 입력하세요4\n",
            "미취학 아동입니다.\n"
          ]
        }
      ]
    },
    {
      "cell_type": "markdown",
      "source": [
        "## 5. 조건부 표현식"
      ],
      "metadata": {
        "id": "u3XSLT6-z1fW"
      }
    },
    {
      "cell_type": "code",
      "source": [
        "score = int(input(\"점수를 입력하세요: \"))\n",
        "if score >= 80:\n",
        "    message = 'Success'\n",
        "else:\n",
        "    message = 'failure'\n",
        "print(f\"당신의 점수{score}점은 시험에 {message}입니다.\")"
      ],
      "metadata": {
        "colab": {
          "base_uri": "https://localhost:8080/"
        },
        "id": "x-d8XopMz5fF",
        "outputId": "b294ffb6-daa1-4efb-bed7-6718139c019f"
      },
      "execution_count": 56,
      "outputs": [
        {
          "output_type": "stream",
          "name": "stdout",
          "text": [
            "점수를 입력하세요: 100\n",
            "당신의 점수100점은 시험에 Success입니다.\n"
          ]
        }
      ]
    },
    {
      "cell_type": "code",
      "source": [],
      "metadata": {
        "id": "TQdMLPUi09YU"
      },
      "execution_count": null,
      "outputs": []
    },
    {
      "cell_type": "code",
      "source": [
        "score = int(input(\"점수를 입력하세요: \"))\n",
        "message = 'Success' if score >=80 else 'failure'\n",
        "print(f\"당신의 점수{score}점은 시험에 {message}입니다.\")"
      ],
      "metadata": {
        "colab": {
          "base_uri": "https://localhost:8080/"
        },
        "id": "MSHuJbjp0sMF",
        "outputId": "c230f78a-4a0e-4124-ae95-1e9aa6d4c3a6"
      },
      "execution_count": 59,
      "outputs": [
        {
          "output_type": "stream",
          "name": "stdout",
          "text": [
            "점수를 입력하세요: 80\n",
            "당신의 점수80점은 시험에 Success입니다.\n"
          ]
        }
      ]
    },
    {
      "cell_type": "code",
      "source": [
        "s = int(input('온도를 입력하세요: '))\n",
        "if s <= 10:\n",
        "    print('난방기를 키세요')\n",
        "elif s < 20:\n",
        "    print('내복을 입으세요')\n",
        "elif s < 30:\n",
        "    print('쾌적한 날씨예요')\n",
        "else:\n",
        "    print('에어컨을 키세요')\n"
      ],
      "metadata": {
        "colab": {
          "base_uri": "https://localhost:8080/"
        },
        "id": "QO2WpoKH11RP",
        "outputId": "6c6e131c-4e40-4658-c66d-5dfb310ac177"
      },
      "execution_count": 79,
      "outputs": [
        {
          "output_type": "stream",
          "name": "stdout",
          "text": [
            "온도를 입력하세요: 11\n",
            "내복을 입으세요\n"
          ]
        }
      ]
    },
    {
      "cell_type": "markdown",
      "source": [
        "# [실습문제] 일상생활의 상황을 조건문으로 표현하기"
      ],
      "metadata": {
        "id": "FI9ZH1Zj5E0D"
      }
    },
    {
      "cell_type": "code",
      "source": [
        "''' 기온 조건 상황\n",
        "- 온도가 30 이상 에어컨 켜기\n",
        "- 온도가 20 미만이면 내복 입기\n",
        "- 온도가 10 이하면 난방기 켜기\n",
        "'''\n",
        "\n",
        "degree = int(input('온도를 입력해 주세요: '))\n",
        "if degree >= 30:\n",
        "    print('에어컨을 켜세요.')\n",
        "elif degree < 20:\n",
        "    print('내복을 입으세요.')\n",
        "elif degree <= 10:\n",
        "    print('난방기를 켜세요.')\n",
        "else:\n",
        "    print('쾌적한 기온입니다.')"
      ],
      "metadata": {
        "colab": {
          "base_uri": "https://localhost:8080/"
        },
        "id": "2fuL5d145KiO",
        "outputId": "aa382c38-f5eb-4b77-fddd-fea8561c328f"
      },
      "execution_count": 84,
      "outputs": [
        {
          "output_type": "stream",
          "name": "stdout",
          "text": [
            "온도를 입력해 주세요: 8\n",
            "내복을 입으세요.\n"
          ]
        }
      ]
    },
    {
      "cell_type": "code",
      "source": [
        "degree = int(input('온도를 입력해 주세요: '))\n",
        "if degree >= 30:\n",
        "    print('에어컨을 켜세요.')\n",
        "else:\n",
        "    if 20 <= degree < 30:\n",
        "        print('쾌적한 기온입니다.')\n",
        "    if degree < 20:\n",
        "        print('내복을 입으세요.')\n",
        "    if degree <= 10:\n",
        "        print('난방기를 켜세요.')"
      ],
      "metadata": {
        "colab": {
          "base_uri": "https://localhost:8080/"
        },
        "id": "Aw6Tr0Vf69FD",
        "outputId": "d133d644-5c75-43c7-a762-099b7b47a43a"
      },
      "execution_count": 93,
      "outputs": [
        {
          "output_type": "stream",
          "name": "stdout",
          "text": [
            "온도를 입력해 주세요: 8\n",
            "내복을 입으세요.\n",
            "난방기를 켜세요.\n"
          ]
        }
      ]
    },
    {
      "cell_type": "markdown",
      "source": [
        "### 커피 주문 머신 만들기"
      ],
      "metadata": {
        "id": "76G4WHzW9YOk"
      }
    },
    {
      "cell_type": "code",
      "source": [
        "menu = '''[커피 주문 머신 메뉴]\n",
        "-------------------------------\n",
        "- 아메리카노 : 2500원\n",
        "- 카페라떼 :   3000원\n",
        "- 카페모카 :   3000원\n",
        "-------------------------------\n",
        "원하시는 커피종류와 잔수를 입력하세요.'''\n",
        "print(menu)\n",
        "coffee1 = int(input('아메리카노 몇잔 : '))\n",
        "coffee2 = int(input('카페라떼   몇잔 : '))\n",
        "coffee3 = int(input('카페모카   몇잔 : '))\n",
        "total = 2500*coffee1 + 3000*coffee2 + 3000*coffee3\n",
        "print(f\"지불할 총 금액은 {total}원 입니다.\")\n",
        "money = int(input('돈을 넣어 주세요: '))\n",
        "change = total - money # 잔돈\n",
        "if total > money:\n",
        "    print(f\"돈이 부족합니다. {change:,}를 더 넣어주세요.\")\n",
        "else:\n",
        "    print(f\"거스름돈은 {abs(change):,}입니다. 커피 맛있게 드세요.\")"
      ],
      "metadata": {
        "colab": {
          "base_uri": "https://localhost:8080/"
        },
        "id": "PvvDCbF29RQ0",
        "outputId": "25144569-2f83-4a58-910d-a766e417cc77"
      },
      "execution_count": 105,
      "outputs": [
        {
          "output_type": "stream",
          "name": "stdout",
          "text": [
            "[커피 주문 머신 메뉴]\n",
            "-------------------------------\n",
            "- 아메리카노 : 2500원\n",
            "- 카페라떼 :   3000원\n",
            "- 카페모카 :   3000원\n",
            "-------------------------------\n",
            "원하시는 커피종류와 잔수를 입력하세요.\n",
            "아메리카노 몇잔 : 4\n",
            "카페라떼   몇잔 : 0\n",
            "카페모카   몇잔 : 0\n",
            "지불할 총 금액은 10000원 입니다.\n",
            "돈을 넣어 주세요: 10500\n",
            "거스름돈은 500입니다. 커피 맛있게 드세요.\n"
          ]
        }
      ]
    },
    {
      "cell_type": "code",
      "source": [
        "!pip install gTTS"
      ],
      "metadata": {
        "colab": {
          "base_uri": "https://localhost:8080/"
        },
        "id": "8Jsx4Qct9WOz",
        "outputId": "2920cebe-e497-40a3-947a-41764a706688"
      },
      "execution_count": 107,
      "outputs": [
        {
          "output_type": "stream",
          "name": "stdout",
          "text": [
            "Collecting gTTS\n",
            "  Downloading gTTS-2.5.1-py3-none-any.whl (29 kB)\n",
            "Requirement already satisfied: requests<3,>=2.27 in /usr/local/lib/python3.10/dist-packages (from gTTS) (2.31.0)\n",
            "Requirement already satisfied: click<8.2,>=7.1 in /usr/local/lib/python3.10/dist-packages (from gTTS) (8.1.7)\n",
            "Requirement already satisfied: charset-normalizer<4,>=2 in /usr/local/lib/python3.10/dist-packages (from requests<3,>=2.27->gTTS) (3.3.2)\n",
            "Requirement already satisfied: idna<4,>=2.5 in /usr/local/lib/python3.10/dist-packages (from requests<3,>=2.27->gTTS) (3.6)\n",
            "Requirement already satisfied: urllib3<3,>=1.21.1 in /usr/local/lib/python3.10/dist-packages (from requests<3,>=2.27->gTTS) (2.0.7)\n",
            "Requirement already satisfied: certifi>=2017.4.17 in /usr/local/lib/python3.10/dist-packages (from requests<3,>=2.27->gTTS) (2024.2.2)\n",
            "Installing collected packages: gTTS\n",
            "Successfully installed gTTS-2.5.1\n"
          ]
        }
      ]
    },
    {
      "cell_type": "code",
      "source": [
        "from gtts import gTTS\n",
        "from IPython.display import Audio\n",
        "\n",
        "def Speaker(stmt):\n",
        "    kor_wav = gTTS(stmt, lang='kor')\n",
        "\n",
        "\n",
        "menu = '''[커피 주문 머신 메뉴]\n",
        "-------------------------------\n",
        "- 아메리카노 : 2500원\n",
        "- 카페라떼 :   3000원\n",
        "- 카페모카 :   3000원\n",
        "-------------------------------\n",
        "원하시는 커피종류와 잔수를 입력하세요.'''\n",
        "print(menu)\n",
        "coffee1 = int(input('아메리카노 몇잔 : '))\n",
        "coffee2 = int(input('카페라떼   몇잔 : '))\n",
        "coffee3 = int(input('카페모카   몇잔 : '))\n",
        "total = 2500*coffee1 + 3000*coffee2 + 3000*coffee3\n",
        "print(f\"지불할 총 금액은 {total}원 입니다.\")\n",
        "money = int(input('돈을 넣어 주세요: '))\n",
        "change = total - money # 잔돈\n",
        "if total > money:\n",
        "    print(f\"돈이 부족합니다. {change:,}를 더 넣어주세요.\")\n",
        "else:\n",
        "    print(f\"거스름돈은 {abs(change):,}입니다. 커피 맛있게 드세요.\")"
      ],
      "metadata": {
        "id": "I8W2mlhFBd1T"
      },
      "execution_count": null,
      "outputs": []
    },
    {
      "cell_type": "markdown",
      "source": [
        "# [추가] time 모듈로 (~초 기다리기 표현)"
      ],
      "metadata": {
        "id": "DUrgL_5YGoAD"
      }
    },
    {
      "cell_type": "code",
      "source": [
        "import time\n",
        "for i in range(1, 11):\n",
        "    time.sleep(1)\n",
        "    print(i)"
      ],
      "metadata": {
        "colab": {
          "base_uri": "https://localhost:8080/"
        },
        "id": "OEjXOeNxGs1w",
        "outputId": "a7d65dab-5dee-4d80-81c0-2dda55457159"
      },
      "execution_count": 108,
      "outputs": [
        {
          "output_type": "stream",
          "name": "stdout",
          "text": [
            "1\n",
            "2\n",
            "3\n",
            "4\n",
            "5\n",
            "6\n",
            "7\n",
            "8\n",
            "9\n",
            "10\n"
          ]
        }
      ]
    },
    {
      "cell_type": "code",
      "source": [
        "import random\n",
        "\n",
        "# 점심 메뉴 리스트\n",
        "lunch_menu = [\"김치찌개\", \"비빔밥\", \"돈까스\", \"파스타\", \"피자\", \"삼겹살구이\", \"족발\", \"매운탕\", \"회덮밥\", \"닭갈비\"]\n",
        "\n",
        "# 메뉴 선택 함수\n",
        "def recommend_lunch():\n",
        "    recommendation = random.choice(lunch_menu)\n",
        "    print(f\"오늘 점심으로 '{recommendation}' 어떠신가요?\")\n",
        "\n",
        "# 메인 함수 실행\n",
        "recommend_lunch()"
      ],
      "metadata": {
        "colab": {
          "base_uri": "https://localhost:8080/"
        },
        "id": "S0pg6z-jKvjV",
        "outputId": "a75b0d36-6210-46e4-9bc4-16a84d911cc1"
      },
      "execution_count": 113,
      "outputs": [
        {
          "output_type": "stream",
          "name": "stdout",
          "text": [
            "오늘 점심으로 '회덮밥' 어떠신가요?\n"
          ]
        }
      ]
    }
  ]
}