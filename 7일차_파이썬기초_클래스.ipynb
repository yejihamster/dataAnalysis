{
  "nbformat": 4,
  "nbformat_minor": 0,
  "metadata": {
    "colab": {
      "provenance": [],
      "authorship_tag": "ABX9TyMBKsRiP97+xv+Og3MRDT6F",
      "include_colab_link": true
    },
    "kernelspec": {
      "name": "python3",
      "display_name": "Python 3"
    },
    "language_info": {
      "name": "python"
    }
  },
  "cells": [
    {
      "cell_type": "markdown",
      "metadata": {
        "id": "view-in-github",
        "colab_type": "text"
      },
      "source": [
        "<a href=\"https://colab.research.google.com/github/yejihamster/dataAnalysis/blob/main/7%EC%9D%BC%EC%B0%A8_%ED%8C%8C%EC%9D%B4%EC%8D%AC%EA%B8%B0%EC%B4%88_%ED%81%B4%EB%9E%98%EC%8A%A4.ipynb\" target=\"_parent\"><img src=\"https://colab.research.google.com/assets/colab-badge.svg\" alt=\"Open In Colab\"/></a>"
      ]
    },
    {
      "cell_type": "markdown",
      "source": [
        "# 7.클래스"
      ],
      "metadata": {
        "id": "FcXtXVNc-YF6"
      }
    },
    {
      "cell_type": "markdown",
      "source": [
        "## 7-1. 클래스 이해"
      ],
      "metadata": {
        "id": "6hLZq--K-ahQ"
      }
    },
    {
      "cell_type": "code",
      "execution_count": 3,
      "metadata": {
        "colab": {
          "base_uri": "https://localhost:8080/"
        },
        "id": "cOkUj5sw-T60",
        "outputId": "665b5db8-5d2b-4d1d-ba94-8d46efd10b5b"
      },
      "outputs": [
        {
          "output_type": "stream",
          "name": "stdout",
          "text": [
            "<class 'list'>\n"
          ]
        }
      ],
      "source": [
        "data1 = list()  # 인스턴스\n",
        "data2 = list()  # 인스턴스\n",
        "print(type(data))\n",
        "\n",
        "data1.append(100)\n",
        "data2.append(200)\n",
        "\n",
        "\n"
      ]
    }
  ]
}