{
  "nbformat": 4,
  "nbformat_minor": 0,
  "metadata": {
    "colab": {
      "provenance": [],
      "authorship_tag": "ABX9TyPiqoK99qmyKpQAJMPS/UUj",
      "include_colab_link": true
    },
    "kernelspec": {
      "name": "python3",
      "display_name": "Python 3"
    },
    "language_info": {
      "name": "python"
    }
  },
  "cells": [
    {
      "cell_type": "markdown",
      "metadata": {
        "id": "view-in-github",
        "colab_type": "text"
      },
      "source": [
        "<a href=\"https://colab.research.google.com/github/yejihamster/dataAnalysis/blob/main/5%EC%9D%BC%EC%B0%A8_%ED%8C%8C%EC%9D%B4%EC%8D%AC%EA%B8%B0%EC%B4%88_%EB%B0%98%EB%B3%B5%EB%AC%B8.ipynb\" target=\"_parent\"><img src=\"https://colab.research.google.com/assets/colab-badge.svg\" alt=\"Open In Colab\"/></a>"
      ]
    },
    {
      "cell_type": "code",
      "execution_count": null,
      "metadata": {
        "id": "yaFmSxv2f420"
      },
      "outputs": [],
      "source": []
    },
    {
      "cell_type": "markdown",
      "source": [
        "# 5. 반복문"
      ],
      "metadata": {
        "id": "nslzsRwynIot"
      }
    },
    {
      "cell_type": "markdown",
      "source": [
        "## 5-1. for 반복문\n",
        "유한개수의 반복문"
      ],
      "metadata": {
        "id": "AqAyUZkloDSJ"
      }
    },
    {
      "cell_type": "markdown",
      "source": [
        "### 다양한 반복문"
      ],
      "metadata": {
        "id": "Yz6IkYlmnO2s"
      }
    },
    {
      "cell_type": "code",
      "source": [
        "# 1. range() 함수 이용 : 정수를 차례로 발생시키는 함수\n",
        "#for 변수 in range(0,3,1):\n",
        "for 변수 in range(3):\n",
        "    print(변수)"
      ],
      "metadata": {
        "colab": {
          "base_uri": "https://localhost:8080/"
        },
        "id": "iB_PC71RnTQw",
        "outputId": "630d0d99-1fbb-4ad6-d5b2-27b45664c50f"
      },
      "execution_count": 3,
      "outputs": [
        {
          "output_type": "stream",
          "name": "stdout",
          "text": [
            "0\n",
            "1\n",
            "2\n"
          ]
        }
      ]
    },
    {
      "cell_type": "code",
      "source": [
        "# 2. 리스트 이용\n",
        "a = list(range(10,0,-1))\n",
        "a = list(range(1,11))\n",
        "for i in a:\n",
        "    print(i)\n",
        "\n",
        "for i in a:\n",
        "    print(i, end=',')"
      ],
      "metadata": {
        "colab": {
          "base_uri": "https://localhost:8080/"
        },
        "id": "QI1Zvkb9n9Vm",
        "outputId": "9701ce2a-0edd-4610-d00f-7cb15c826fbb"
      },
      "execution_count": 13,
      "outputs": [
        {
          "output_type": "stream",
          "name": "stdout",
          "text": [
            "1\n",
            "2\n",
            "3\n",
            "4\n",
            "5\n",
            "6\n",
            "7\n",
            "8\n",
            "9\n",
            "10\n",
            "1,2,3,4,5,6,7,8,9,10,"
          ]
        }
      ]
    },
    {
      "cell_type": "code",
      "source": [
        "# 한 줄로 표혀하는 방법\n",
        "for i in range(1,101):\n",
        "    print(i, end=',')\n"
      ],
      "metadata": {
        "id": "wxPr_mU2piBc"
      },
      "execution_count": null,
      "outputs": []
    },
    {
      "cell_type": "code",
      "source": [
        "# 3. 문자열 이용\n",
        "for i in 'python':\n",
        "    print(i)"
      ],
      "metadata": {
        "colab": {
          "base_uri": "https://localhost:8080/"
        },
        "id": "rWLCjHTSqFRs",
        "outputId": "f892326e-42cf-4c30-b761-d91a4c18cc74"
      },
      "execution_count": 14,
      "outputs": [
        {
          "output_type": "stream",
          "name": "stdout",
          "text": [
            "p\n",
            "y\n",
            "t\n",
            "h\n",
            "o\n",
            "n\n"
          ]
        }
      ]
    },
    {
      "cell_type": "code",
      "source": [
        "# 4. 변수 사용안하고 반복만 할 때\n",
        "for _ in range(3):\n",
        "    print('좋은 아침')"
      ],
      "metadata": {
        "colab": {
          "base_uri": "https://localhost:8080/"
        },
        "id": "pOYKXybqqWPM",
        "outputId": "392ea928-2134-4e5d-9a23-74f97035a491"
      },
      "execution_count": 15,
      "outputs": [
        {
          "output_type": "stream",
          "name": "stdout",
          "text": [
            "좋은 아침\n",
            "좋은 아침\n",
            "좋은 아침\n"
          ]
        }
      ]
    },
    {
      "cell_type": "code",
      "source": [
        "# 5. enumerate() : 리스트와 같은 순서가 있는 자료형의 인덱스를 함께 사용\n",
        "fruits = ['사과','포도','딸기','키위']\n",
        "for idx, fruit in enumerate(fruits):\n",
        "    print(idx, fruit)"
      ],
      "metadata": {
        "colab": {
          "base_uri": "https://localhost:8080/"
        },
        "id": "rUJTGTcUqarb",
        "outputId": "44d9a56b-0a98-45a9-8ec4-982a1db2f7f4"
      },
      "execution_count": 18,
      "outputs": [
        {
          "output_type": "stream",
          "name": "stdout",
          "text": [
            "0 사과\n",
            "1 포도\n",
            "2 딸기\n",
            "3 키위\n"
          ]
        }
      ]
    },
    {
      "cell_type": "code",
      "source": [
        "# 6. 컬렉션 자료형 특징 이용\n",
        "# _리스트\n",
        "for a, b in [(1,2),(3,4),(5,6)]:\n",
        "    print(a,b)\n",
        "print('-'*30)\n",
        "\n",
        "# _딕셔너리\n",
        "dic = {1:'사과', 2:'포도'}\n",
        "for key in dic:\n",
        "    print(key, dic[key])\n",
        "print('-'*30)\n",
        "\n",
        "for key, value in dic.items():\n",
        "    print(key, value)\n",
        "# 집합\n",
        "print('-'*30)\n",
        "for v in {1,2,3,3,4,5,3}:\n",
        "    print(v)"
      ],
      "metadata": {
        "colab": {
          "base_uri": "https://localhost:8080/"
        },
        "id": "m-RGxHgDsT1T",
        "outputId": "82b1d655-ceb7-4a09-8b33-7a10e59b8336"
      },
      "execution_count": 26,
      "outputs": [
        {
          "output_type": "stream",
          "name": "stdout",
          "text": [
            "1 2\n",
            "3 4\n",
            "5 6\n",
            "------------------------------\n",
            "1 사과\n",
            "2 포도\n",
            "------------------------------\n",
            "1 사과\n",
            "2 포도\n",
            "------------------------------\n",
            "1\n",
            "2\n",
            "3\n",
            "4\n",
            "5\n"
          ]
        }
      ]
    },
    {
      "cell_type": "code",
      "source": [
        "n = int(input('합계를 구할 숫자 입력: '))\n",
        "hap = 0\n",
        "\n",
        "for i in range(n):\n",
        "    if n % 2 == 0:\n",
        "        hap += i\n",
        "\n",
        "print(f'1 ~ {n}까지 짝수를 제외한 합은: {hap}')"
      ],
      "metadata": {
        "colab": {
          "base_uri": "https://localhost:8080/"
        },
        "id": "L2ETr_gSuNAj",
        "outputId": "10264463-2754-4a4e-9e78-8371fa4838bb"
      },
      "execution_count": 34,
      "outputs": [
        {
          "output_type": "stream",
          "name": "stdout",
          "text": [
            "합계를 구할 숫자 입력: 100\n",
            "1 ~ 100까지 짝수를 제외한 합은: 4950\n"
          ]
        }
      ]
    },
    {
      "cell_type": "code",
      "source": [
        "n = int(input('합계를 구할 숫자 입력: '))\n",
        "hap = 0\n",
        "\n",
        "for i in range(1, n+1):\n",
        "    if i % 2 != 0:\n",
        "        hap = hap+i\n",
        "\n",
        "print(f'1 ~ {n}까지 짝수를 제외한 합은: {hap}')"
      ],
      "metadata": {
        "colab": {
          "base_uri": "https://localhost:8080/"
        },
        "id": "sc5ckrZovqrC",
        "outputId": "7c1ea923-4aab-4f1b-e8b4-e026a748828f"
      },
      "execution_count": 36,
      "outputs": [
        {
          "output_type": "stream",
          "name": "stdout",
          "text": [
            "합계를 구할 숫자 입력: 100\n",
            "1 ~ 100까지 짝수를 제외한 합은: 2500\n"
          ]
        }
      ]
    },
    {
      "cell_type": "code",
      "source": [
        "n = int(input('합계를 구할 숫자 입력: '))\n",
        "hap = 0\n",
        "\n",
        "for i in range(1, n+1, 2):\n",
        "        hap = hap + i\n",
        "\n",
        "print(f'1 ~ {n}까지 짝수를 제외한 합은: {hap}')"
      ],
      "metadata": {
        "colab": {
          "base_uri": "https://localhost:8080/"
        },
        "id": "XoFejV0ywF_D",
        "outputId": "89c7cee8-e55b-4308-9d93-aaa53d4b8612"
      },
      "execution_count": 37,
      "outputs": [
        {
          "output_type": "stream",
          "name": "stdout",
          "text": [
            "합계를 구할 숫자 입력: 100\n",
            "1 ~ 100까지 짝수를 제외한 합은: 2500\n"
          ]
        }
      ]
    },
    {
      "cell_type": "code",
      "source": [
        "n = int(input('합계를 구할 숫자 입력: '))\n",
        "hap = sum([ i for i in range(1, n+1, 2)])\n",
        "\n",
        "print(f'1 ~ {n}까지 짝수를 제외한 합은: {hap}')"
      ],
      "metadata": {
        "colab": {
          "base_uri": "https://localhost:8080/"
        },
        "id": "m62DUYfvwP67",
        "outputId": "2bf8dbf6-d80e-4710-fbf4-24e92fc53b58"
      },
      "execution_count": 41,
      "outputs": [
        {
          "output_type": "stream",
          "name": "stdout",
          "text": [
            "합계를 구할 숫자 입력: 100\n",
            "1 ~ 100까지 짝수를 제외한 합은: 2500\n"
          ]
        }
      ]
    },
    {
      "cell_type": "markdown",
      "source": [
        "### [실습문제] 정오각형 그리기\n",
        "- turtle 모듈은 코랩에서 사용할 수 없음.\n",
        "- PC에서 사용하기"
      ],
      "metadata": {
        "id": "wjrpvCWB2B37"
      }
    },
    {
      "cell_type": "code",
      "source": [
        "import turtle\n",
        "\n",
        "t = turtle.Pen()\n",
        "\n",
        "t.forward(100)\n",
        "t.right(72)\n",
        "\n",
        "turtle.exitonclick()"
      ],
      "metadata": {
        "id": "3PRLuE4e1o7L"
      },
      "execution_count": null,
      "outputs": []
    },
    {
      "cell_type": "markdown",
      "source": [
        "### [실습문제] 1 ~ 100 숫자를 1줄로 출력하기"
      ],
      "metadata": {
        "id": "FpEcctrl8ckh"
      }
    },
    {
      "cell_type": "code",
      "source": [
        "for i in range(1,101):\n",
        "    print(i, end=\" \" )"
      ],
      "metadata": {
        "colab": {
          "base_uri": "https://localhost:8080/"
        },
        "id": "mZ_iQaqx8Ch7",
        "outputId": "c84292da-0715-475e-b5e2-be5c0cf74069"
      },
      "execution_count": 46,
      "outputs": [
        {
          "output_type": "stream",
          "name": "stdout",
          "text": [
            "1 2 3 4 5 6 7 8 9 10 11 12 13 14 15 16 17 18 19 20 21 22 23 24 25 26 27 28 29 30 31 32 33 34 35 36 37 38 39 40 41 42 43 44 45 46 47 48 49 50 51 52 53 54 55 56 57 58 59 60 61 62 63 64 65 66 67 68 69 70 71 72 73 74 75 76 77 78 79 80 81 82 83 84 85 86 87 88 89 90 91 92 93 94 95 96 97 98 99 100 "
          ]
        }
      ]
    },
    {
      "cell_type": "code",
      "source": [
        "print(' '.join([str(i) for i in range(1,101)]))"
      ],
      "metadata": {
        "colab": {
          "base_uri": "https://localhost:8080/"
        },
        "id": "HepJjYgq8sri",
        "outputId": "a0102786-35c2-445c-9429-1685f8347067"
      },
      "execution_count": 49,
      "outputs": [
        {
          "output_type": "stream",
          "name": "stdout",
          "text": [
            "1 2 3 4 5 6 7 8 9 10 11 12 13 14 15 16 17 18 19 20 21 22 23 24 25 26 27 28 29 30 31 32 33 34 35 36 37 38 39 40 41 42 43 44 45 46 47 48 49 50 51 52 53 54 55 56 57 58 59 60 61 62 63 64 65 66 67 68 69 70 71 72 73 74 75 76 77 78 79 80 81 82 83 84 85 86 87 88 89 90 91 92 93 94 95 96 97 98 99 100\n"
          ]
        }
      ]
    },
    {
      "cell_type": "code",
      "source": [
        "scores = [90, 25, 67, 45, 80]\n",
        "n = 1\n",
        "for i in scores:\n",
        "    if i > 60:\n",
        "        r = '합격'\n",
        "        print(f\"{n}번 학생 {i}점은 {r}입니다.\")\n",
        "        n += 1\n",
        "    else:\n",
        "        r = '불합격'\n",
        "        print(f\"{n}번 학생 {i}점은 {r}입니다.\")\n",
        "        n += 1\n"
      ],
      "metadata": {
        "colab": {
          "base_uri": "https://localhost:8080/"
        },
        "id": "cn90SUxC9ZFi",
        "outputId": "88f777db-a61f-429e-d20f-93e7f02ab8df"
      },
      "execution_count": 52,
      "outputs": [
        {
          "output_type": "stream",
          "name": "stdout",
          "text": [
            "1번 학생 90점은 합격입니다.\n",
            "2번 학생 25점은 불합격입니다.\n",
            "3번 학생 67점은 합격입니다.\n",
            "4번 학생 45점은 불합격입니다.\n",
            "5번 학생 80점은 합격입니다.\n"
          ]
        }
      ]
    },
    {
      "cell_type": "markdown",
      "source": [
        "### [실습문제] 리스트 읽어서 조건문으로 학생 성적 판별하기"
      ],
      "metadata": {
        "id": "3mp5trn_-yLS"
      }
    },
    {
      "cell_type": "code",
      "source": [
        "import random\n",
        "\n",
        "# 방법 1 : 직접 지정\n",
        "#scores = [90, 25, 67, 45, 80]\n",
        "\n",
        "# 방법 2 : 빈 리스트 만들어서 임의의 숫자 리스트에 추가\n",
        "# scores = []\n",
        "# for _ in range(5):\n",
        "#     scores.append(random.randint(1,101))\n",
        "\n",
        "# 방법 3 : 방법2를 한 줄로 표현\n",
        "scores = [ random.randint(1,101) for _ in range(5)]\n",
        "\n",
        "\n",
        "for i, score in enumerate(scores):\n",
        "   if score >= 60:\n",
        "       print(f'{i+1}번 학생 {score}점 : 합격입니다.')\n",
        "   else:\n",
        "       print(f'{i+1}번 학생 {score}점 : 불합격입니다.')\n",
        "\n",
        "    result = '합격' if score >=60 else '불합격'\n",
        "print(f'{i+1}번 학생 {score}점 : {result}입니다.')\n"
      ],
      "metadata": {
        "colab": {
          "base_uri": "https://localhost:8080/"
        },
        "id": "cqdKY_XG-28S",
        "outputId": "6b33a800-f1e2-4e72-8050-2aa3358653da"
      },
      "execution_count": 60,
      "outputs": [
        {
          "output_type": "stream",
          "name": "stdout",
          "text": [
            "5번 학생 64점 : 합격입니다.\n"
          ]
        }
      ]
    },
    {
      "cell_type": "code",
      "source": [
        "# a_list = list(input('괄호 : '))\n",
        "# print(a_list)\n",
        "\n",
        "# result = 0\n",
        "# for i in a_list:\n",
        "#     if i == \"(\":\n",
        "#         result += 1\n",
        "#     else:\n",
        "#         r\n",
        "#         if i == -1:\n",
        "#             result += -1\n",
        "#         else:\n",
        "#     else:\n",
        "\n",
        "\n",
        "# print()\n",
        "\n",
        "\n",
        "\n",
        "p_list = list(input('판별할 괄호는: '))\n",
        "print(p_list)\n",
        "\n",
        "t = 0\n",
        "for p in p_list:\n",
        "    if p == '(':\n",
        "        t += 1\n",
        "    elif p == ')':\n",
        "        t -= 1\n",
        "    if t < 0:\n",
        "        break\n",
        "if t == 0:\n",
        "    print('결과: True')\n",
        "else:\n",
        "    print('결과: False')"
      ],
      "metadata": {
        "colab": {
          "base_uri": "https://localhost:8080/"
        },
        "id": "c8cMqR-yD8Do",
        "outputId": "9a60e136-c4ea-48e5-87a0-7c1c387d2c95"
      },
      "execution_count": 67,
      "outputs": [
        {
          "output_type": "stream",
          "name": "stdout",
          "text": [
            "판별할 괄호는: ))(()\n",
            "[')', ')', '(', '(', ')']\n",
            "결과: False\n"
          ]
        }
      ]
    },
    {
      "cell_type": "markdown",
      "source": [
        "## 중첩 for 반복문: 반복문 안에 반복문"
      ],
      "metadata": {
        "id": "aJKL-EDvG9yT"
      }
    },
    {
      "cell_type": "code",
      "source": [
        "for i in range(3):\n",
        "    print(f\"{i}-------\")\n",
        "    for j in range(3):\n",
        "        print(f\"i:{i},J:{j}\")"
      ],
      "metadata": {
        "colab": {
          "base_uri": "https://localhost:8080/"
        },
        "id": "ygOvRBNLHEhd",
        "outputId": "287ac080-ea09-4d4d-ba95-d7b9ef6d0a61"
      },
      "execution_count": 70,
      "outputs": [
        {
          "output_type": "stream",
          "name": "stdout",
          "text": [
            "0-------\n",
            "i:0,J:0\n",
            "i:0,J:1\n",
            "i:0,J:2\n",
            "1-------\n",
            "i:1,J:0\n",
            "i:1,J:1\n",
            "i:1,J:2\n",
            "2-------\n",
            "i:2,J:0\n",
            "i:2,J:1\n",
            "i:2,J:2\n"
          ]
        }
      ]
    },
    {
      "cell_type": "code",
      "source": [
        "p_lists = [')))()()(((','()()()()())','()(())()()','))(())((','()(()))(','((())())']\n",
        "\n",
        "for p_list in p_lists:\n",
        "    print(f\"괄호: {p_list}\")\n",
        "    t = 0\n",
        "    for p in p_list:\n",
        "        if p == '(':\n",
        "            t += 1\n",
        "        elif p == ')':\n",
        "            t -= 1\n",
        "        if t < 0:\n",
        "            break\n",
        "    if t == 0:\n",
        "        print('->결과: True')\n",
        "    else:\n",
        "        print('->결과: False')"
      ],
      "metadata": {
        "colab": {
          "base_uri": "https://localhost:8080/"
        },
        "id": "VHesO0uMH_Z_",
        "outputId": "6118460a-cd1f-4060-bf9b-0782ea63fd0c"
      },
      "execution_count": 72,
      "outputs": [
        {
          "output_type": "stream",
          "name": "stdout",
          "text": [
            "괄호: )))()()(((\n",
            "->결과: False\n",
            "괄호: ()()()()())\n",
            "->결과: False\n",
            "괄호: ()(())()()\n",
            "->결과: True\n",
            "괄호: ))(())((\n",
            "->결과: False\n",
            "괄호: ()(()))(\n",
            "->결과: False\n",
            "괄호: ((())())\n",
            "->결과: True\n"
          ]
        }
      ]
    },
    {
      "cell_type": "markdown",
      "source": [
        "## 5-2. while 반복문"
      ],
      "metadata": {
        "id": "4sgUIfUcRfEH"
      }
    },
    {
      "cell_type": "markdown",
      "source": [
        "## while 반복문 기본형식"
      ],
      "metadata": {
        "id": "9ayrZkqRRnf_"
      }
    },
    {
      "cell_type": "code",
      "source": [
        "a = 0\n",
        "while a < 5:  #조건이 참일 동안 반복\n",
        "    print(f\"{a}는 5보다 작군요\")\n",
        "    a += 1\n",
        "print(f\"{a}는 5와 같군요\")"
      ],
      "metadata": {
        "colab": {
          "base_uri": "https://localhost:8080/"
        },
        "id": "0KmxvPmfRmB2",
        "outputId": "45732086-3bda-49eb-d705-92c253892a9b"
      },
      "execution_count": 74,
      "outputs": [
        {
          "output_type": "stream",
          "name": "stdout",
          "text": [
            "0는 5보다 작군요\n",
            "1는 5보다 작군요\n",
            "2는 5보다 작군요\n",
            "3는 5보다 작군요\n",
            "4는 5보다 작군요\n",
            "5는 5와 같군요\n"
          ]
        }
      ]
    },
    {
      "cell_type": "code",
      "source": [
        "a = 0\n",
        "while True:\n",
        "    if a >=5:\n",
        "        break\n",
        "    print(f\"{a}는 5보다 작군요\")\n",
        "    a += 1\n",
        "print(f\"{a}는 5와 같군요\")"
      ],
      "metadata": {
        "colab": {
          "base_uri": "https://localhost:8080/"
        },
        "id": "T7_ORqdHSOl3",
        "outputId": "fe46ab45-3cd6-417f-b857-b7cd26a5f6b4"
      },
      "execution_count": 75,
      "outputs": [
        {
          "output_type": "stream",
          "name": "stdout",
          "text": [
            "0는 5보다 작군요\n",
            "1는 5보다 작군요\n",
            "2는 5보다 작군요\n",
            "3는 5보다 작군요\n",
            "4는 5보다 작군요\n",
            "5는 5와 같군요\n"
          ]
        }
      ]
    },
    {
      "cell_type": "code",
      "source": [
        "###\n",
        "\n",
        "treeHIT = 1\n",
        "\n",
        "while True:\n",
        "    if treeHIT> 10:\n",
        "        break\n",
        "    print(f\"나무를 {treeHIT}번 찍었습니다.\")\n",
        "    treeHIT += 1\n",
        "print(f\"나무 넘어갑니다.\")"
      ],
      "metadata": {
        "colab": {
          "base_uri": "https://localhost:8080/"
        },
        "id": "sRYfxZlbS57V",
        "outputId": "ef9593f9-3cca-4ca4-8ca8-fc4a64ff265e"
      },
      "execution_count": 77,
      "outputs": [
        {
          "output_type": "stream",
          "name": "stdout",
          "text": [
            "나무를 1번 찍었습니다.\n",
            "나무를 2번 찍었습니다.\n",
            "나무를 3번 찍었습니다.\n",
            "나무를 4번 찍었습니다.\n",
            "나무를 5번 찍었습니다.\n",
            "나무를 6번 찍었습니다.\n",
            "나무를 7번 찍었습니다.\n",
            "나무를 8번 찍었습니다.\n",
            "나무를 9번 찍었습니다.\n",
            "나무를 10번 찍었습니다.\n",
            "나무 넘어갑니다.\n"
          ]
        }
      ]
    },
    {
      "cell_type": "code",
      "source": [
        "treeHIT = 0\n",
        "while treeHIT < 10:\n",
        "    treeHIT += 1\n",
        "    print(f\"나무를 {treeHIT}번 찍었습니다.\")\n",
        "print(\"나무 넘어갔습니다.\")"
      ],
      "metadata": {
        "colab": {
          "base_uri": "https://localhost:8080/"
        },
        "id": "lY_EsoXrT9Kp",
        "outputId": "9453e876-6946-4567-bdaf-48e081ff3b6e"
      },
      "execution_count": 78,
      "outputs": [
        {
          "output_type": "stream",
          "name": "stdout",
          "text": [
            "나무를 1번 찍었습니다.\n",
            "나무를 2번 찍었습니다.\n",
            "나무를 3번 찍었습니다.\n",
            "나무를 4번 찍었습니다.\n",
            "나무를 5번 찍었습니다.\n",
            "나무를 6번 찍었습니다.\n",
            "나무를 7번 찍었습니다.\n",
            "나무를 8번 찍었습니다.\n",
            "나무를 9번 찍었습니다.\n",
            "나무를 10번 찍었습니다.\n",
            "나무 넘어갔습니다.\n"
          ]
        }
      ]
    }
  ]
}