{
  "nbformat": 4,
  "nbformat_minor": 0,
  "metadata": {
    "colab": {
      "provenance": [],
      "toc_visible": true,
      "authorship_tag": "ABX9TyMsbkL78mbqLSvtRs3tR44R",
      "include_colab_link": true
    },
    "kernelspec": {
      "name": "python3",
      "display_name": "Python 3"
    },
    "language_info": {
      "name": "python"
    }
  },
  "cells": [
    {
      "cell_type": "markdown",
      "metadata": {
        "id": "view-in-github",
        "colab_type": "text"
      },
      "source": [
        "<a href=\"https://colab.research.google.com/github/yejihamster/dataAnalysis/blob/main/test_colab.ipynb\" target=\"_parent\"><img src=\"https://colab.research.google.com/assets/colab-badge.svg\" alt=\"Open In Colab\"/></a>"
      ]
    },
    {
      "cell_type": "code",
      "execution_count": null,
      "metadata": {
        "id": "dQY_V6VLDjO3"
      },
      "outputs": [],
      "source": []
    },
    {
      "cell_type": "markdown",
      "source": [],
      "metadata": {
        "id": "xjgYmJxkD9nC"
      }
    },
    {
      "cell_type": "code",
      "source": [],
      "metadata": {
        "id": "pURdhCLLD-QJ"
      },
      "execution_count": null,
      "outputs": []
    },
    {
      "cell_type": "markdown",
      "source": [
        "# 제목\n",
        "## 제목\n",
        "### 제목\n",
        "#### 제목\n"
      ],
      "metadata": {
        "id": "6OJQlmAOEC4T"
      }
    },
    {
      "cell_type": "markdown",
      "source": [
        "## 1. 제목\n"
      ],
      "metadata": {
        "id": "mRQiTv77E_OD"
      }
    },
    {
      "cell_type": "code",
      "source": [
        "print('코랩에서 작성하는 코드')"
      ],
      "metadata": {
        "id": "KPjvHpm7FEFx"
      },
      "execution_count": null,
      "outputs": []
    },
    {
      "cell_type": "code",
      "source": [
        "a=10\n",
        "b=20\n",
        "print(a+b)"
      ],
      "metadata": {
        "id": "31elDmlSFOXi"
      },
      "execution_count": null,
      "outputs": []
    },
    {
      "cell_type": "markdown",
      "source": [
        "## 2. 파이썬 패키지 확인\n"
      ],
      "metadata": {
        "id": "ql4DEOI8Eg1R"
      }
    },
    {
      "cell_type": "code",
      "source": [
        "pip list"
      ],
      "metadata": {
        "id": "2pz_PfDrE7sy"
      },
      "execution_count": null,
      "outputs": []
    }
  ]
}